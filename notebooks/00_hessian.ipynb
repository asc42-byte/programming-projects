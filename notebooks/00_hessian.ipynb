{
 "cells": [
  {
   "cell_type": "code",
   "execution_count": 1,
   "metadata": {},
   "outputs": [],
   "source": [
    "from qcio import view\n",
    "from protochem import smiles, geom"
   ]
  },
  {
   "cell_type": "code",
   "execution_count": 2,
   "metadata": {},
   "outputs": [
    {
     "data": {
      "text/html": [
       "<div style=\"display: flex; flex-wrap: wrap; justify-content: center;\"><div id=\"3dmolviewer_17380819302836347\"  style=\"position: relative; width: 600px; height: 450px;\">\n",
       "        <p id=\"3dmolwarning_17380819302836347\" style=\"background-color:#ffcccc;color:black\">3Dmol.js failed to load for some reason.  Please check your browser console for error messages.<br></p>\n",
       "        </div>\n",
       "<script>\n",
       "\n",
       "var loadScriptAsync = function(uri){\n",
       "  return new Promise((resolve, reject) => {\n",
       "    //this is to ignore the existence of requirejs amd\n",
       "    var savedexports, savedmodule;\n",
       "    if (typeof exports !== 'undefined') savedexports = exports;\n",
       "    else exports = {}\n",
       "    if (typeof module !== 'undefined') savedmodule = module;\n",
       "    else module = {}\n",
       "\n",
       "    var tag = document.createElement('script');\n",
       "    tag.src = uri;\n",
       "    tag.async = true;\n",
       "    tag.onload = () => {\n",
       "        exports = savedexports;\n",
       "        module = savedmodule;\n",
       "        resolve();\n",
       "    };\n",
       "  var firstScriptTag = document.getElementsByTagName('script')[0];\n",
       "  firstScriptTag.parentNode.insertBefore(tag, firstScriptTag);\n",
       "});\n",
       "};\n",
       "\n",
       "if(typeof $3Dmolpromise === 'undefined') {\n",
       "$3Dmolpromise = null;\n",
       "  $3Dmolpromise = loadScriptAsync('https://cdnjs.cloudflare.com/ajax/libs/3Dmol/2.4.2/3Dmol-min.js');\n",
       "}\n",
       "\n",
       "var viewer_17380819302836347 = null;\n",
       "var warn = document.getElementById(\"3dmolwarning_17380819302836347\");\n",
       "if(warn) {\n",
       "    warn.parentNode.removeChild(warn);\n",
       "}\n",
       "$3Dmolpromise.then(function() {\n",
       "var viewergrid_17380819302836347 = null;\n",
       "viewergrid_17380819302836347 = $3Dmol.createViewerGrid(document.getElementById(\"3dmolviewer_17380819302836347\"),{rows: 1, cols: 1, control_all: true},{backgroundColor:\"white\"});\n",
       "viewer_17380819302836347 = viewergrid_17380819302836347[0][0];\n",
       "viewergrid_17380819302836347[0][0].zoomTo();\tviewergrid_17380819302836347[0][0].addModel(\"10\\nqcio_charge=0 qcio_multiplicity=2\\nC  -1.11253903513412533 -0.01388283264220935 -0.26243743544650022\\nC  0.15944600091533728 0.17106010960321294 0.51202357093200757\\nC  1.40009110215844434 0.16582108151090424 -0.32261759051187633\\nH  -1.57541479892564484 0.95943806310275526 -0.56724859680862272\\nH  -1.89905305118978651 -0.50177225532639946 0.36830477757743069\\nH  -1.00249701887248666 -0.66744845575161948 -1.14866706909739591\\nH  0.24260460090125560 -0.67215551697862119 1.22866521143232799\\nH  0.14248787086939474 1.14842530650071084 1.04657409693823067\\nH  2.27194121315427511 -0.07766155303673090 0.33472684158498361\\nH  1.37293311612333535 -0.51182394698199918 -1.18932380660058734\\n\",\"xyz\");\n",
       "\tviewergrid_17380819302836347[0][0].addLabel(\" \",{\"position\": {\"x\": 300.0, \"y\": 0, \"z\": 0}, \"alignment\": \"topCenter\", \"fontSize\": 24, \"backgroundOpacity\": 0, \"fontColor\": \"black\", \"useScreen\": true});\n",
       "\tviewergrid_17380819302836347[0][0].addLabel(\" \",{\"position\": {\"x\": 300.0, \"y\": 450, \"z\": 0}, \"alignment\": \"bottomCenter\", \"fontSize\": 20, \"backgroundOpacity\": 0, \"fontColor\": \"black\", \"useScreen\": true});\n",
       "\tviewergrid_17380819302836347[0][0].setStyle({\"stick\": {}, \"sphere\": {\"scale\": 0.3}});\n",
       "\tviewergrid_17380819302836347[0][0].zoomTo();\n",
       "viewergrid_17380819302836347[0][0].render();\n",
       "});\n",
       "</script></div>"
      ],
      "text/plain": [
       "<IPython.core.display.HTML object>"
      ]
     },
     "metadata": {},
     "output_type": "display_data"
    }
   ],
   "source": [
    "geo = smiles.geometry(\"CC[CH2]\")\n",
    "struc = geom.qcio_structure(geo)\n",
    "\n",
    "view.view(struc)"
   ]
  },
  {
   "cell_type": "code",
   "execution_count": null,
   "metadata": {},
   "outputs": [],
   "source": []
  }
 ],
 "metadata": {
  "kernelspec": {
   "display_name": "default",
   "language": "python",
   "name": "python3"
  },
  "language_info": {
   "codemirror_mode": {
    "name": "ipython",
    "version": 3
   },
   "file_extension": ".py",
   "mimetype": "text/x-python",
   "name": "python",
   "nbconvert_exporter": "python",
   "pygments_lexer": "ipython3",
   "version": "3.11.11"
  }
 },
 "nbformat": 4,
 "nbformat_minor": 2
}
