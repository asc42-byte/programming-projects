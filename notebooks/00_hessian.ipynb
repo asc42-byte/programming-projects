{
 "cells": [
  {
   "cell_type": "code",
   "execution_count": 1,
   "metadata": {},
   "outputs": [],
   "source": [
    "import qcio\n",
    "from protochem import smiles"
   ]
  },
  {
   "cell_type": "code",
   "execution_count": 2,
   "metadata": {},
   "outputs": [
    {
     "data": {
      "text/plain": [
       "Geometry(symbols=['C', 'C', 'C', 'H', 'H', 'H', 'H', 'H', 'H', 'H'], coordinates=array([[-1.11253904, -0.01388283, -0.26243744],\n",
       "       [ 0.159446  ,  0.17106011,  0.51202357],\n",
       "       [ 1.4000911 ,  0.16582108, -0.32261759],\n",
       "       [-1.5754148 ,  0.95943806, -0.5672486 ],\n",
       "       [-1.89905305, -0.50177226,  0.36830478],\n",
       "       [-1.00249702, -0.66744846, -1.14866707],\n",
       "       [ 0.2426046 , -0.67215552,  1.22866521],\n",
       "       [ 0.14248787,  1.14842531,  1.0465741 ],\n",
       "       [ 2.27194121, -0.07766155,  0.33472684],\n",
       "       [ 1.37293312, -0.51182395, -1.18932381]]), charge=0, spin=1)"
      ]
     },
     "execution_count": 2,
     "metadata": {},
     "output_type": "execute_result"
    }
   ],
   "source": [
    "geo = smiles.geometry(\"CC[CH2]\")\n",
    "geo"
   ]
  },
  {
   "cell_type": "code",
   "execution_count": 3,
   "metadata": {},
   "outputs": [
    {
     "data": {
      "text/plain": [
       "Structure(formula='C3H7')"
      ]
     },
     "execution_count": 3,
     "metadata": {},
     "output_type": "execute_result"
    }
   ],
   "source": [
    "struc = qcio.Structure(\n",
    "    symbols=geo.symbols,\n",
    "    geometry=geo.coordinates,\n",
    "    charge=geo.charge,\n",
    "    multiplicity=geo.spin + 1,\n",
    ")\n",
    "struc"
   ]
  },
  {
   "cell_type": "code",
   "execution_count": null,
   "metadata": {},
   "outputs": [],
   "source": []
  }
 ],
 "metadata": {
  "kernelspec": {
   "display_name": "default",
   "language": "python",
   "name": "python3"
  },
  "language_info": {
   "codemirror_mode": {
    "name": "ipython",
    "version": 3
   },
   "file_extension": ".py",
   "mimetype": "text/x-python",
   "name": "python",
   "nbconvert_exporter": "python",
   "pygments_lexer": "ipython3",
   "version": "3.11.11"
  }
 },
 "nbformat": 4,
 "nbformat_minor": 2
}
