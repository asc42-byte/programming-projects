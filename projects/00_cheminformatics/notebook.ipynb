{
 "cells": [
  {
   "cell_type": "markdown",
   "metadata": {},
   "source": [
    "# Introduction\n",
    "## Part 1: Cheminformatics\n",
    "\n",
    "The programming projects in this repository provide an introduction to calculating various thermochemical and kinetic properties of molecules and reactions from first principles using quantum chemistry.\n",
    "\n",
    "Here, you will be introduced to some of the cheminformatics routines available to you.\n",
    "By \"cheminformatics\", we mean various ways of representing a molecule and its structure."
   ]
  },
  {
   "cell_type": "markdown",
   "metadata": {},
   "source": [
    "### `protochem`\n",
    "\n",
    "[`protochem`](../../src/protochem/) is a helper module that goes along with these\n",
    "programming projects and provides some convenience functions for interacting\n",
    "with various cheminformatics libraries.\n",
    "\n",
    "You will be modifying and adding to `protochem` as you go along, so it is worth\n",
    "getting familiar with the basic structure.\n",
    "It is organized as a series of submodules, including:\n",
    " - [geom](../../src/protochem/geom.py): Functions for working with molecular structures or \"geometries\"\n",
    " - [smiles](../../src/protochem/smiles.py): Functions for working with [SMILES strings](https://en.wikipedia.org/wiki/Simplified_Molecular_Input_Line_Entry_System#Examples)\n",
    " - [rd.mol](../../src/protochem/rd/mol.py): Functions for working with the `Mol` objects of the cheminformatics library [RDKit](https://www.rdkit.org/docs/GettingStartedInPython.html)\n",
    "\n",
    "Each of these submodules consists of functions acting on the given data type,\n",
    "along with a series of \"constructor\" functions for creating the data type from\n",
    "another.\n",
    "The constructor functions are all named `from_<other data type name>`."
   ]
  },
  {
   "cell_type": "markdown",
   "metadata": {},
   "source": [
    "The following example shows how you might use these submodules.\n",
    "It converts a SMILES string to a `Geometry` data structure and extracts various\n",
    "information for it."
   ]
  },
  {
   "cell_type": "code",
   "execution_count": 4,
   "metadata": {},
   "outputs": [
    {
     "name": "stdout",
     "output_type": "stream",
     "text": [
      "Atom count: 7\n",
      "Symbols: ['C', 'C', 'H', 'H', 'H', 'H', 'H']\n",
      "Coordinates (in Angstrom): [[-6.00950828e-01  3.82978646e-02 -1.02326548e-04]\n",
      " [ 8.69633983e-01 -2.66500520e-02  2.84545648e-01]\n",
      " [-9.17809116e-01 -6.42961938e-01 -8.28637018e-01]\n",
      " [-1.16583727e+00 -2.88588153e-01  9.07920027e-01]\n",
      " [-9.53912704e-01  1.06378199e+00 -2.63699195e-01]\n",
      " [ 1.44384888e+00  8.41407023e-01 -7.16841359e-02]\n",
      " [ 1.32502706e+00 -9.85286739e-01 -2.83430004e-02]]\n",
      "Charge: 0\n",
      "Spin: 1\n"
     ]
    }
   ],
   "source": [
    "from protochem import smiles, geom\n",
    "\n",
    "smi = \"C[CH2]\"  # SMILES formula for propyl radical\n",
    "\n",
    "# Generate a geometry for the SMILES formula\n",
    "geo = smiles.geometry(smi)\n",
    "\n",
    "# Get information from the geometry data structure\n",
    "natms = geom.count(geo)\n",
    "syms = geom.symbols(geo)\n",
    "xyzs = geom.coordinates(geo)\n",
    "char = geom.charge(geo)\n",
    "spin = geom.spin(geo)\n",
    "\n",
    "print(\"Atom count:\", natms)\n",
    "print(\"Symbols:\", syms)\n",
    "print(\"Coordinates (in Angstrom):\", xyzs)\n",
    "print(\"Charge:\", char)\n",
    "print(\"Spin:\", spin)"
   ]
  },
  {
   "cell_type": "markdown",
   "metadata": {},
   "source": [
    "In a Jupyter notebook, you can also display the molecular geometry as follows."
   ]
  },
  {
   "cell_type": "code",
   "execution_count": 5,
   "metadata": {},
   "outputs": [
    {
     "data": {
      "application/3dmoljs_load.v0": "<div id=\"3dmolviewer_17381011698160713\"  style=\"position: relative; width: 600px; height: 450px;\">\n        <p id=\"3dmolwarning_17381011698160713\" style=\"background-color:#ffcccc;color:black\">3Dmol.js failed to load for some reason.  Please check your browser console for error messages.<br></p>\n        </div>\n<script>\n\nvar loadScriptAsync = function(uri){\n  return new Promise((resolve, reject) => {\n    //this is to ignore the existence of requirejs amd\n    var savedexports, savedmodule;\n    if (typeof exports !== 'undefined') savedexports = exports;\n    else exports = {}\n    if (typeof module !== 'undefined') savedmodule = module;\n    else module = {}\n\n    var tag = document.createElement('script');\n    tag.src = uri;\n    tag.async = true;\n    tag.onload = () => {\n        exports = savedexports;\n        module = savedmodule;\n        resolve();\n    };\n  var firstScriptTag = document.getElementsByTagName('script')[0];\n  firstScriptTag.parentNode.insertBefore(tag, firstScriptTag);\n});\n};\n\nif(typeof $3Dmolpromise === 'undefined') {\n$3Dmolpromise = null;\n  $3Dmolpromise = loadScriptAsync('https://cdnjs.cloudflare.com/ajax/libs/3Dmol/2.4.2/3Dmol-min.js');\n}\n\nvar viewer_17381011698160713 = null;\nvar warn = document.getElementById(\"3dmolwarning_17381011698160713\");\nif(warn) {\n    warn.parentNode.removeChild(warn);\n}\n$3Dmolpromise.then(function() {\nviewer_17381011698160713 = $3Dmol.createViewer(document.getElementById(\"3dmolviewer_17381011698160713\"),{backgroundColor:\"white\"});\nviewer_17381011698160713.zoomTo();\n\tviewer_17381011698160713.addModel(\"7\\n\\nC  -0.600951   0.038298  -0.000102\\nC   0.869634  -0.026650   0.284546\\nH  -0.917809  -0.642962  -0.828637\\nH  -1.165837  -0.288588   0.907920\\nH  -0.953913   1.063782  -0.263699\\nH   1.443849   0.841407  -0.071684\\nH   1.325027  -0.985287  -0.028343\",\"xyz\");\n\tviewer_17381011698160713.setStyle({\"stick\": {}, \"sphere\": {\"scale\": 0.3}});\n\tviewer_17381011698160713.zoomTo();\nviewer_17381011698160713.render();\n});\n</script>",
      "text/html": [
       "<div id=\"3dmolviewer_17381011698160713\"  style=\"position: relative; width: 600px; height: 450px;\">\n",
       "        <p id=\"3dmolwarning_17381011698160713\" style=\"background-color:#ffcccc;color:black\">3Dmol.js failed to load for some reason.  Please check your browser console for error messages.<br></p>\n",
       "        </div>\n",
       "<script>\n",
       "\n",
       "var loadScriptAsync = function(uri){\n",
       "  return new Promise((resolve, reject) => {\n",
       "    //this is to ignore the existence of requirejs amd\n",
       "    var savedexports, savedmodule;\n",
       "    if (typeof exports !== 'undefined') savedexports = exports;\n",
       "    else exports = {}\n",
       "    if (typeof module !== 'undefined') savedmodule = module;\n",
       "    else module = {}\n",
       "\n",
       "    var tag = document.createElement('script');\n",
       "    tag.src = uri;\n",
       "    tag.async = true;\n",
       "    tag.onload = () => {\n",
       "        exports = savedexports;\n",
       "        module = savedmodule;\n",
       "        resolve();\n",
       "    };\n",
       "  var firstScriptTag = document.getElementsByTagName('script')[0];\n",
       "  firstScriptTag.parentNode.insertBefore(tag, firstScriptTag);\n",
       "});\n",
       "};\n",
       "\n",
       "if(typeof $3Dmolpromise === 'undefined') {\n",
       "$3Dmolpromise = null;\n",
       "  $3Dmolpromise = loadScriptAsync('https://cdnjs.cloudflare.com/ajax/libs/3Dmol/2.4.2/3Dmol-min.js');\n",
       "}\n",
       "\n",
       "var viewer_17381011698160713 = null;\n",
       "var warn = document.getElementById(\"3dmolwarning_17381011698160713\");\n",
       "if(warn) {\n",
       "    warn.parentNode.removeChild(warn);\n",
       "}\n",
       "$3Dmolpromise.then(function() {\n",
       "viewer_17381011698160713 = $3Dmol.createViewer(document.getElementById(\"3dmolviewer_17381011698160713\"),{backgroundColor:\"white\"});\n",
       "viewer_17381011698160713.zoomTo();\n",
       "\tviewer_17381011698160713.addModel(\"7\\n\\nC  -0.600951   0.038298  -0.000102\\nC   0.869634  -0.026650   0.284546\\nH  -0.917809  -0.642962  -0.828637\\nH  -1.165837  -0.288588   0.907920\\nH  -0.953913   1.063782  -0.263699\\nH   1.443849   0.841407  -0.071684\\nH   1.325027  -0.985287  -0.028343\",\"xyz\");\n",
       "\tviewer_17381011698160713.setStyle({\"stick\": {}, \"sphere\": {\"scale\": 0.3}});\n",
       "\tviewer_17381011698160713.zoomTo();\n",
       "viewer_17381011698160713.render();\n",
       "});\n",
       "</script>"
      ]
     },
     "metadata": {},
     "output_type": "display_data"
    }
   ],
   "source": [
    "geom.display(geo)"
   ]
  },
  {
   "cell_type": "markdown",
   "metadata": {},
   "source": [
    "#### protochem.geom.Geometry\n",
    "\n",
    "Initially, we will be primarily focused on the `Geometry` data structure of the `geom` submodule, which has the following attributes:\n",
    " - `symbols`: The list of atomic symbols\n",
    " - `coordinates`: A $n\\times3$ numpy array of coordinates in (units: [Bohr radii](https://en.wikipedia.org/wiki/Bohr_radius))\n",
    " - `charge`: The total charge of the molecule\n",
    " - `spin`: The total spin of the electrons in the molecule ($2S$ where $S$ is the total spin quantum number)\n",
    "\n",
    "You can print the data structure to see the values of these attributes."
   ]
  },
  {
   "cell_type": "code",
   "execution_count": 7,
   "metadata": {},
   "outputs": [
    {
     "name": "stdout",
     "output_type": "stream",
     "text": [
      "symbols=['C', 'C', 'H', 'H', 'H', 'H', 'H'] coordinates=array([[-1.13563248e+00,  7.23724752e-02, -1.93369150e-04],\n",
      "       [ 1.64337006e+00, -5.03612995e-02,  5.37713345e-01],\n",
      "       [-1.73440786e+00, -1.21502197e+00, -1.56589702e+00],\n",
      "       [-2.20311315e+00, -5.45352572e-01,  1.71572019e+00],\n",
      "       [-1.80263376e+00,  2.01025663e+00, -4.98319257e-01],\n",
      "       [ 2.72847894e+00,  1.59002883e+00, -1.35463384e-01],\n",
      "       [ 2.50393825e+00, -1.86192209e+00, -5.35605082e-02]]) charge=0 spin=1\n"
     ]
    }
   ],
   "source": [
    "print(geo)"
   ]
  },
  {
   "cell_type": "markdown",
   "metadata": {},
   "source": [
    "While these values can be accessed directly as `geo.symbols`, `geo.coordinates`,\n",
    "etc., it is recommended to use the functions above to access these values\n",
    "instead.\n",
    "These functions can be used to process the values for convenience, such as converting the units of the coordinates."
   ]
  },
  {
   "cell_type": "code",
   "execution_count": 11,
   "metadata": {},
   "outputs": [
    {
     "name": "stdout",
     "output_type": "stream",
     "text": [
      "Coordinates in Bohr:\n",
      "[[-1.13563248e+00  7.23724752e-02 -1.93369150e-04]\n",
      " [ 1.64337006e+00 -5.03612995e-02  5.37713345e-01]\n",
      " [-1.73440786e+00 -1.21502197e+00 -1.56589702e+00]\n",
      " [-2.20311315e+00 -5.45352572e-01  1.71572019e+00]\n",
      " [-1.80263376e+00  2.01025663e+00 -4.98319257e-01]\n",
      " [ 2.72847894e+00  1.59002883e+00 -1.35463384e-01]\n",
      " [ 2.50393825e+00 -1.86192209e+00 -5.35605082e-02]]\n",
      "Coordinates in Angstroms:\n",
      "[[-6.00950828e-01  3.82978646e-02 -1.02326548e-04]\n",
      " [ 8.69633983e-01 -2.66500520e-02  2.84545648e-01]\n",
      " [-9.17809116e-01 -6.42961938e-01 -8.28637018e-01]\n",
      " [-1.16583727e+00 -2.88588153e-01  9.07920027e-01]\n",
      " [-9.53912704e-01  1.06378199e+00 -2.63699195e-01]\n",
      " [ 1.44384888e+00  8.41407023e-01 -7.16841359e-02]\n",
      " [ 1.32502706e+00 -9.85286739e-01 -2.83430004e-02]]\n"
     ]
    }
   ],
   "source": [
    "xyzs_bohr = geom.coordinates(geo)  # equivalent to geo.coordinates\n",
    "xyzs_angs = geom.coordinates(geo, unit=\"angstrom\")\n",
    "\n",
    "print(\"Coordinates in Bohr:\")\n",
    "print(xyzs_bohr)  \n",
    "\n",
    "print(\"Coordinates in Angstroms:\")\n",
    "print(xyzs_angs)"
   ]
  },
  {
   "cell_type": "markdown",
   "metadata": {},
   "source": [
    "### Exercise: Open the Hood\n",
    "\n",
    "To understand what `protochem` is doing under the hood, let us implement following `protochem` functionality through direct calls to the respective libraries it uses."
   ]
  },
  {
   "cell_type": "code",
   "execution_count": null,
   "metadata": {},
   "outputs": [
    {
     "data": {
      "application/3dmoljs_load.v0": "<div id=\"3dmolviewer_1738095459245988\"  style=\"position: relative; width: 600px; height: 450px;\">\n        <p id=\"3dmolwarning_1738095459245988\" style=\"background-color:#ffcccc;color:black\">3Dmol.js failed to load for some reason.  Please check your browser console for error messages.<br></p>\n        </div>\n<script>\n\nvar loadScriptAsync = function(uri){\n  return new Promise((resolve, reject) => {\n    //this is to ignore the existence of requirejs amd\n    var savedexports, savedmodule;\n    if (typeof exports !== 'undefined') savedexports = exports;\n    else exports = {}\n    if (typeof module !== 'undefined') savedmodule = module;\n    else module = {}\n\n    var tag = document.createElement('script');\n    tag.src = uri;\n    tag.async = true;\n    tag.onload = () => {\n        exports = savedexports;\n        module = savedmodule;\n        resolve();\n    };\n  var firstScriptTag = document.getElementsByTagName('script')[0];\n  firstScriptTag.parentNode.insertBefore(tag, firstScriptTag);\n});\n};\n\nif(typeof $3Dmolpromise === 'undefined') {\n$3Dmolpromise = null;\n  $3Dmolpromise = loadScriptAsync('https://cdnjs.cloudflare.com/ajax/libs/3Dmol/2.4.2/3Dmol-min.js');\n}\n\nvar viewer_1738095459245988 = null;\nvar warn = document.getElementById(\"3dmolwarning_1738095459245988\");\nif(warn) {\n    warn.parentNode.removeChild(warn);\n}\n$3Dmolpromise.then(function() {\nviewer_1738095459245988 = $3Dmol.createViewer(document.getElementById(\"3dmolviewer_1738095459245988\"),{backgroundColor:\"white\"});\nviewer_1738095459245988.zoomTo();\n\tviewer_1738095459245988.addModel(\"7\\n\\nC  -0.609525   0.000838  -0.004720\\nC   0.862683  -0.075077  -0.298294\\nH  -1.116003   0.492872  -0.873624\\nH  -0.787353   0.648715   0.886691\\nH  -1.054332  -1.000089   0.176460\\nH   1.340322   0.881131  -0.027266\\nH   1.364208  -0.948389   0.140753\",\"xyz\");\n\tviewer_1738095459245988.setStyle({\"stick\": {}, \"sphere\": {\"scale\": 0.3}});\n\tviewer_1738095459245988.zoomTo();\nviewer_1738095459245988.render();\n});\n</script>",
      "text/html": [
       "<div id=\"3dmolviewer_1738095459245988\"  style=\"position: relative; width: 600px; height: 450px;\">\n",
       "        <p id=\"3dmolwarning_1738095459245988\" style=\"background-color:#ffcccc;color:black\">3Dmol.js failed to load for some reason.  Please check your browser console for error messages.<br></p>\n",
       "        </div>\n",
       "<script>\n",
       "\n",
       "var loadScriptAsync = function(uri){\n",
       "  return new Promise((resolve, reject) => {\n",
       "    //this is to ignore the existence of requirejs amd\n",
       "    var savedexports, savedmodule;\n",
       "    if (typeof exports !== 'undefined') savedexports = exports;\n",
       "    else exports = {}\n",
       "    if (typeof module !== 'undefined') savedmodule = module;\n",
       "    else module = {}\n",
       "\n",
       "    var tag = document.createElement('script');\n",
       "    tag.src = uri;\n",
       "    tag.async = true;\n",
       "    tag.onload = () => {\n",
       "        exports = savedexports;\n",
       "        module = savedmodule;\n",
       "        resolve();\n",
       "    };\n",
       "  var firstScriptTag = document.getElementsByTagName('script')[0];\n",
       "  firstScriptTag.parentNode.insertBefore(tag, firstScriptTag);\n",
       "});\n",
       "};\n",
       "\n",
       "if(typeof $3Dmolpromise === 'undefined') {\n",
       "$3Dmolpromise = null;\n",
       "  $3Dmolpromise = loadScriptAsync('https://cdnjs.cloudflare.com/ajax/libs/3Dmol/2.4.2/3Dmol-min.js');\n",
       "}\n",
       "\n",
       "var viewer_1738095459245988 = null;\n",
       "var warn = document.getElementById(\"3dmolwarning_1738095459245988\");\n",
       "if(warn) {\n",
       "    warn.parentNode.removeChild(warn);\n",
       "}\n",
       "$3Dmolpromise.then(function() {\n",
       "viewer_1738095459245988 = $3Dmol.createViewer(document.getElementById(\"3dmolviewer_1738095459245988\"),{backgroundColor:\"white\"});\n",
       "viewer_1738095459245988.zoomTo();\n",
       "\tviewer_1738095459245988.addModel(\"7\\n\\nC  -0.609525   0.000838  -0.004720\\nC   0.862683  -0.075077  -0.298294\\nH  -1.116003   0.492872  -0.873624\\nH  -0.787353   0.648715   0.886691\\nH  -1.054332  -1.000089   0.176460\\nH   1.340322   0.881131  -0.027266\\nH   1.364208  -0.948389   0.140753\",\"xyz\");\n",
       "\tviewer_1738095459245988.setStyle({\"stick\": {}, \"sphere\": {\"scale\": 0.3}});\n",
       "\tviewer_1738095459245988.zoomTo();\n",
       "viewer_1738095459245988.render();\n",
       "});\n",
       "</script>"
      ]
     },
     "metadata": {},
     "output_type": "display_data"
    }
   ],
   "source": [
    "from protochem import smiles, geom\n",
    "\n",
    "smi = \"C[CH2]\"  # SMILES formula for ethyl radical\n",
    "geo = smiles.geometry(smi)  # Convert to geometry\n",
    "geom.display(geo)  # Display geometry"
   ]
  },
  {
   "cell_type": "markdown",
   "metadata": {},
   "source": [
    "Exercise:\n",
    "1. Use [RDKit](https://www.rdkit.org/docs/GettingStartedInPython.html) to read the SMILES string into a `Mol` object.\n",
    "2. Add molecular coordinates to the `Mol` object.\n",
    "3. Determine the atom count, atomic symbols, coordinates, charge, and spin from the `Mol` object.\n",
    "4. Convert the coordinates from Angstroms to Bohr using [Pint](https://pint.readthedocs.io/en/stable/getting/tutorial.html).\n",
    "5. Visualize the 3D structure using [3Dmol](https://3dmol.org/).\n",
    "\n",
    "The documentation for these packages can be difficult to navigate, so feel free\n",
    "to reference the solution below.\n",
    "(Of course, you will only benefit from this if you make sure you understand what each step is doing.)"
   ]
  },
  {
   "cell_type": "markdown",
   "metadata": {},
   "source": [
    "### Solution"
   ]
  },
  {
   "cell_type": "code",
   "execution_count": 12,
   "metadata": {},
   "outputs": [
    {
     "data": {
      "image/png": "[encoded data removed]",
      "text/plain": [
       "<rdkit.Chem.rdchem.Mol at 0x7f5e9a14edc0>"
      ]
     },
     "execution_count": 12,
     "metadata": {},
     "output_type": "execute_result"
    }
   ],
   "source": [
    "# 1. Use RDKit to read the SMILES string into a `Mol` object\n",
    "from rdkit import Chem\n",
    "\n",
    "smi = \"C[CH2]\"  # SMILES formula for ethyl radical\n",
    "mol = Chem.MolFromSmiles(smi)  # Interpret SMILES formula\n",
    "mol # RDKit molecule objects are display-able"
   ]
  },
  {
   "cell_type": "code",
   "execution_count": 13,
   "metadata": {},
   "outputs": [
    {
     "data": {
      "image/png": "[encoded data removed]",
      "text/plain": [
       "<rdkit.Chem.rdchem.Mol at 0x7f5e9a04c3c0>"
      ]
     },
     "execution_count": 13,
     "metadata": {},
     "output_type": "execute_result"
    }
   ],
   "source": [
    "# 2. Add molecular coordinates to the `Mol` object.\n",
    "from rdkit.Chem import rdDistGeom\n",
    "\n",
    "mol = Chem.AddHs(mol)   # Add hydrogen atoms (missing in RDKit by default)\n",
    "rdDistGeom.EmbedMolecule(mol)\n",
    "mol"
   ]
  },
  {
   "cell_type": "code",
   "execution_count": 18,
   "metadata": {},
   "outputs": [
    {
     "name": "stdout",
     "output_type": "stream",
     "text": [
      "Atom count: 7\n",
      "Symbols: ['C', 'C', 'H', 'H', 'H', 'H', 'H']\n",
      "Coordinates (in Angstrom): [[-0.61401452  0.06990281  0.00898599]\n",
      " [ 0.86222693 -0.06111826  0.25365479]\n",
      " [-0.92102836  1.11692806 -0.10552147]\n",
      " [-0.92545143 -0.50751126 -0.87772367]\n",
      " [-1.13092518 -0.41015913  0.87886023]\n",
      " [ 1.27886906 -1.02669932 -0.07203431]\n",
      " [ 1.45032349  0.8186571  -0.08622156]]\n",
      "Charge: 0\n",
      "Spin: 1\n"
     ]
    }
   ],
   "source": [
    "# 3. Determine the atom count, atomic symbols, coordinates, charge, and spin from the `Mol` object.\n",
    "from rdkit.Chem import Descriptors\n",
    "import numpy\n",
    "\n",
    "natms = mol.GetNumAtoms()\n",
    "syms = [a.GetSymbol() for a in mol.GetAtoms()]\n",
    "conf = mol.GetConformer()\n",
    "xyzs = numpy.array([conf.GetAtomPosition(i) for i in range(natms)])\n",
    "char = Chem.GetFormalCharge(mol)\n",
    "spin = Descriptors.NumRadicalElectrons(mol)\n",
    "\n",
    "print(\"Atom count:\", natms)\n",
    "print(\"Symbols:\", syms)\n",
    "print(\"Coordinates (in Angstrom):\", xyzs)\n",
    "print(\"Charge:\", char)\n",
    "print(\"Spin:\", spin)"
   ]
  },
  {
   "cell_type": "markdown",
   "metadata": {},
   "source": [
    "To better view the 3D structure, we can display it using 3Dmol."
   ]
  },
  {
   "cell_type": "code",
   "execution_count": 8,
   "metadata": {},
   "outputs": [
    {
     "data": {
      "application/3dmoljs_load.v0": "<div id=\"3dmolviewer_17380966571173294\"  style=\"position: relative; width: 600px; height: 450px;\">\n        <p id=\"3dmolwarning_17380966571173294\" style=\"background-color:#ffcccc;color:black\">3Dmol.js failed to load for some reason.  Please check your browser console for error messages.<br></p>\n        </div>\n<script>\n\nvar loadScriptAsync = function(uri){\n  return new Promise((resolve, reject) => {\n    //this is to ignore the existence of requirejs amd\n    var savedexports, savedmodule;\n    if (typeof exports !== 'undefined') savedexports = exports;\n    else exports = {}\n    if (typeof module !== 'undefined') savedmodule = module;\n    else module = {}\n\n    var tag = document.createElement('script');\n    tag.src = uri;\n    tag.async = true;\n    tag.onload = () => {\n        exports = savedexports;\n        module = savedmodule;\n        resolve();\n    };\n  var firstScriptTag = document.getElementsByTagName('script')[0];\n  firstScriptTag.parentNode.insertBefore(tag, firstScriptTag);\n});\n};\n\nif(typeof $3Dmolpromise === 'undefined') {\n$3Dmolpromise = null;\n  $3Dmolpromise = loadScriptAsync('https://cdnjs.cloudflare.com/ajax/libs/3Dmol/2.4.2/3Dmol-min.js');\n}\n\nvar viewer_17380966571173294 = null;\nvar warn = document.getElementById(\"3dmolwarning_17380966571173294\");\nif(warn) {\n    warn.parentNode.removeChild(warn);\n}\n$3Dmolpromise.then(function() {\nviewer_17380966571173294 = $3Dmol.createViewer(document.getElementById(\"3dmolviewer_17380966571173294\"),{backgroundColor:\"white\"});\nviewer_17380966571173294.zoomTo();\n\tviewer_17380966571173294.addModel(\"7\\n\\nC     -0.600712   -0.073322    0.005207\\nC      0.847848    0.062452    0.383036\\nH     -0.963993    0.742457   -0.656631\\nH     -0.757341   -1.026661   -0.527580\\nH     -1.211781   -0.000887    0.928505\\nH      1.193770    1.028329   -0.060364\\nH      1.492209   -0.732369   -0.072174\\n\",\"xyz\");\n\tviewer_17380966571173294.setStyle({\"stick\": {}, \"sphere\": {\"scale\": 0.3}});\n\tviewer_17380966571173294.zoomTo();\nviewer_17380966571173294.render();\n});\n</script>",
      "text/html": [
       "<div id=\"3dmolviewer_17380966571173294\"  style=\"position: relative; width: 600px; height: 450px;\">\n",
       "        <p id=\"3dmolwarning_17380966571173294\" style=\"background-color:#ffcccc;color:black\">3Dmol.js failed to load for some reason.  Please check your browser console for error messages.<br></p>\n",
       "        </div>\n",
       "<script>\n",
       "\n",
       "var loadScriptAsync = function(uri){\n",
       "  return new Promise((resolve, reject) => {\n",
       "    //this is to ignore the existence of requirejs amd\n",
       "    var savedexports, savedmodule;\n",
       "    if (typeof exports !== 'undefined') savedexports = exports;\n",
       "    else exports = {}\n",
       "    if (typeof module !== 'undefined') savedmodule = module;\n",
       "    else module = {}\n",
       "\n",
       "    var tag = document.createElement('script');\n",
       "    tag.src = uri;\n",
       "    tag.async = true;\n",
       "    tag.onload = () => {\n",
       "        exports = savedexports;\n",
       "        module = savedmodule;\n",
       "        resolve();\n",
       "    };\n",
       "  var firstScriptTag = document.getElementsByTagName('script')[0];\n",
       "  firstScriptTag.parentNode.insertBefore(tag, firstScriptTag);\n",
       "});\n",
       "};\n",
       "\n",
       "if(typeof $3Dmolpromise === 'undefined') {\n",
       "$3Dmolpromise = null;\n",
       "  $3Dmolpromise = loadScriptAsync('https://cdnjs.cloudflare.com/ajax/libs/3Dmol/2.4.2/3Dmol-min.js');\n",
       "}\n",
       "\n",
       "var viewer_17380966571173294 = null;\n",
       "var warn = document.getElementById(\"3dmolwarning_17380966571173294\");\n",
       "if(warn) {\n",
       "    warn.parentNode.removeChild(warn);\n",
       "}\n",
       "$3Dmolpromise.then(function() {\n",
       "viewer_17380966571173294 = $3Dmol.createViewer(document.getElementById(\"3dmolviewer_17380966571173294\"),{backgroundColor:\"white\"});\n",
       "viewer_17380966571173294.zoomTo();\n",
       "\tviewer_17380966571173294.addModel(\"7\\n\\nC     -0.600712   -0.073322    0.005207\\nC      0.847848    0.062452    0.383036\\nH     -0.963993    0.742457   -0.656631\\nH     -0.757341   -1.026661   -0.527580\\nH     -1.211781   -0.000887    0.928505\\nH      1.193770    1.028329   -0.060364\\nH      1.492209   -0.732369   -0.072174\\n\",\"xyz\");\n",
       "\tviewer_17380966571173294.setStyle({\"stick\": {}, \"sphere\": {\"scale\": 0.3}});\n",
       "\tviewer_17380966571173294.zoomTo();\n",
       "viewer_17380966571173294.render();\n",
       "});\n",
       "</script>"
      ]
     },
     "metadata": {},
     "output_type": "display_data"
    }
   ],
   "source": [
    "import py3Dmol\n",
    "\n",
    "viewer = py3Dmol.view(width=600, height=450)\n",
    "viewer.addModel(Chem.MolToXYZBlock(mol), \"xyz\")\n",
    "viewer.setStyle({\"stick\": {}, \"sphere\": {\"scale\": 0.3}})\n",
    "viewer.zoomTo()\n",
    "viewer.show()"
   ]
  },
  {
   "cell_type": "markdown",
   "metadata": {},
   "source": [
    "Finally, for our purposes the RDKit molecule object is often rather cumbersome to work with"
   ]
  },
  {
   "cell_type": "code",
   "execution_count": null,
   "metadata": {},
   "outputs": [],
   "source": []
  }
 ],
 "metadata": {
  "kernelspec": {
   "display_name": "default",
   "language": "python",
   "name": "python3"
  },
  "language_info": {
   "codemirror_mode": {
    "name": "ipython",
    "version": 3
   },
   "file_extension": ".py",
   "mimetype": "text/x-python",
   "name": "python",
   "nbconvert_exporter": "python",
   "pygments_lexer": "ipython3",
   "version": "3.11.11"
  }
 },
 "nbformat": 4,
 "nbformat_minor": 2
}
