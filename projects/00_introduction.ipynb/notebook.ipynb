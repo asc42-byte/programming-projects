{
 "cells": [
  {
   "cell_type": "markdown",
   "metadata": {},
   "source": [
    "# Introduction\n",
    "\n",
    "The programming projects in this repository provide an introduction to calculating various thermochemical and kinetic properties of molecules and reactions from first principles using quantum chemistry.\n",
    "\n",
    "Here, you will be introduced to some of the packages you will be using to complete these projects."
   ]
  },
  {
   "cell_type": "markdown",
   "metadata": {},
   "source": [
    "### Cheminformatics\n",
    "\n",
    "The [protochem](../../src/protochem/) module in this repository provides some\n",
    "basic \"cheminformatics\" routines for converting between different\n",
    "representations of a molecule or molecular structure.\n",
    "For example, the following code shows how to generate a chemically reasonable\n",
    "structure for a given molecule from its\n",
    "[SMILES formula](https://en.wikipedia.org/wiki/Simplified_Molecular_Input_Line_Entry_System#Examples)."
   ]
  },
  {
   "cell_type": "code",
   "execution_count": 1,
   "metadata": {},
   "outputs": [
    {
     "data": {
      "application/3dmoljs_load.v0": "<div id=\"3dmolviewer_1738095459245988\"  style=\"position: relative; width: 600px; height: 450px;\">\n        <p id=\"3dmolwarning_1738095459245988\" style=\"background-color:#ffcccc;color:black\">3Dmol.js failed to load for some reason.  Please check your browser console for error messages.<br></p>\n        </div>\n<script>\n\nvar loadScriptAsync = function(uri){\n  return new Promise((resolve, reject) => {\n    //this is to ignore the existence of requirejs amd\n    var savedexports, savedmodule;\n    if (typeof exports !== 'undefined') savedexports = exports;\n    else exports = {}\n    if (typeof module !== 'undefined') savedmodule = module;\n    else module = {}\n\n    var tag = document.createElement('script');\n    tag.src = uri;\n    tag.async = true;\n    tag.onload = () => {\n        exports = savedexports;\n        module = savedmodule;\n        resolve();\n    };\n  var firstScriptTag = document.getElementsByTagName('script')[0];\n  firstScriptTag.parentNode.insertBefore(tag, firstScriptTag);\n});\n};\n\nif(typeof $3Dmolpromise === 'undefined') {\n$3Dmolpromise = null;\n  $3Dmolpromise = loadScriptAsync('https://cdnjs.cloudflare.com/ajax/libs/3Dmol/2.4.2/3Dmol-min.js');\n}\n\nvar viewer_1738095459245988 = null;\nvar warn = document.getElementById(\"3dmolwarning_1738095459245988\");\nif(warn) {\n    warn.parentNode.removeChild(warn);\n}\n$3Dmolpromise.then(function() {\nviewer_1738095459245988 = $3Dmol.createViewer(document.getElementById(\"3dmolviewer_1738095459245988\"),{backgroundColor:\"white\"});\nviewer_1738095459245988.zoomTo();\n\tviewer_1738095459245988.addModel(\"7\\n\\nC  -0.609525   0.000838  -0.004720\\nC   0.862683  -0.075077  -0.298294\\nH  -1.116003   0.492872  -0.873624\\nH  -0.787353   0.648715   0.886691\\nH  -1.054332  -1.000089   0.176460\\nH   1.340322   0.881131  -0.027266\\nH   1.364208  -0.948389   0.140753\",\"xyz\");\n\tviewer_1738095459245988.setStyle({\"stick\": {}, \"sphere\": {\"scale\": 0.3}});\n\tviewer_1738095459245988.zoomTo();\nviewer_1738095459245988.render();\n});\n</script>",
      "text/html": [
       "<div id=\"3dmolviewer_1738095459245988\"  style=\"position: relative; width: 600px; height: 450px;\">\n",
       "        <p id=\"3dmolwarning_1738095459245988\" style=\"background-color:#ffcccc;color:black\">3Dmol.js failed to load for some reason.  Please check your browser console for error messages.<br></p>\n",
       "        </div>\n",
       "<script>\n",
       "\n",
       "var loadScriptAsync = function(uri){\n",
       "  return new Promise((resolve, reject) => {\n",
       "    //this is to ignore the existence of requirejs amd\n",
       "    var savedexports, savedmodule;\n",
       "    if (typeof exports !== 'undefined') savedexports = exports;\n",
       "    else exports = {}\n",
       "    if (typeof module !== 'undefined') savedmodule = module;\n",
       "    else module = {}\n",
       "\n",
       "    var tag = document.createElement('script');\n",
       "    tag.src = uri;\n",
       "    tag.async = true;\n",
       "    tag.onload = () => {\n",
       "        exports = savedexports;\n",
       "        module = savedmodule;\n",
       "        resolve();\n",
       "    };\n",
       "  var firstScriptTag = document.getElementsByTagName('script')[0];\n",
       "  firstScriptTag.parentNode.insertBefore(tag, firstScriptTag);\n",
       "});\n",
       "};\n",
       "\n",
       "if(typeof $3Dmolpromise === 'undefined') {\n",
       "$3Dmolpromise = null;\n",
       "  $3Dmolpromise = loadScriptAsync('https://cdnjs.cloudflare.com/ajax/libs/3Dmol/2.4.2/3Dmol-min.js');\n",
       "}\n",
       "\n",
       "var viewer_1738095459245988 = null;\n",
       "var warn = document.getElementById(\"3dmolwarning_1738095459245988\");\n",
       "if(warn) {\n",
       "    warn.parentNode.removeChild(warn);\n",
       "}\n",
       "$3Dmolpromise.then(function() {\n",
       "viewer_1738095459245988 = $3Dmol.createViewer(document.getElementById(\"3dmolviewer_1738095459245988\"),{backgroundColor:\"white\"});\n",
       "viewer_1738095459245988.zoomTo();\n",
       "\tviewer_1738095459245988.addModel(\"7\\n\\nC  -0.609525   0.000838  -0.004720\\nC   0.862683  -0.075077  -0.298294\\nH  -1.116003   0.492872  -0.873624\\nH  -0.787353   0.648715   0.886691\\nH  -1.054332  -1.000089   0.176460\\nH   1.340322   0.881131  -0.027266\\nH   1.364208  -0.948389   0.140753\",\"xyz\");\n",
       "\tviewer_1738095459245988.setStyle({\"stick\": {}, \"sphere\": {\"scale\": 0.3}});\n",
       "\tviewer_1738095459245988.zoomTo();\n",
       "viewer_1738095459245988.render();\n",
       "});\n",
       "</script>"
      ]
     },
     "metadata": {},
     "output_type": "display_data"
    }
   ],
   "source": [
    "from protochem import smiles, geom\n",
    "\n",
    "smi = \"C[CH2]\"  # SMILES formula for ethyl radical\n",
    "geo = smiles.geometry(smi)  # Convert to geometry\n",
    "geom.display(geo)"
   ]
  },
  {
   "cell_type": "markdown",
   "metadata": {},
   "source": [
    "Under the hood, this is using the vast-but-cumbersome\n",
    "[RDKit](https://www.rdkit.org/docs/GettingStartedInPython.html)\n",
    "cheminformatics library to interpret the SMILES formula and generate the\n",
    "structure.\n",
    "The [3Dmol](https://3dmol.org/) library is used for visualization.\n",
    "\n",
    "\n",
    "#### Exercise\n",
    "\n",
    "To understand what `protochem` is doing under the hood, let us implement the above functionality through direct calls to RDKit. First, we can interpret the SMILES formula as follows."
   ]
  },
  {
   "cell_type": "code",
   "execution_count": 5,
   "metadata": {},
   "outputs": [
    {
     "data": {
      "image/png": "[encoded data removed]",
      "text/plain": [
       "<rdkit.Chem.rdchem.Mol at 0x7f3d60025690>"
      ]
     },
     "execution_count": 5,
     "metadata": {},
     "output_type": "execute_result"
    }
   ],
   "source": [
    "from rdkit import Chem\n",
    "\n",
    "smi = \"C[CH2]\"  # SMILES formula for ethyl radical\n",
    "mol = Chem.MolFromSmiles(smi)  # Interpret SMILES formula\n",
    "mol = Chem.AddHs(mol)   # Add hydrogen atoms (missing in RDKit by default)\n",
    "mol # RDKit molecule objects are display-able"
   ]
  },
  {
   "cell_type": "markdown",
   "metadata": {},
   "source": [
    "Next, we add chemically reasonable 3D coordinates to the molecule as follows."
   ]
  },
  {
   "cell_type": "code",
   "execution_count": 4,
   "metadata": {},
   "outputs": [
    {
     "data": {
      "image/png": "[encoded data removed]",
      "text/plain": [
       "<rdkit.Chem.rdchem.Mol at 0x7f3d60024ba0>"
      ]
     },
     "execution_count": 4,
     "metadata": {},
     "output_type": "execute_result"
    }
   ],
   "source": [
    "from rdkit.Chem import rdDistGeom\n",
    "\n",
    "rdDistGeom.EmbedMolecule(mol)\n",
    "mol"
   ]
  },
  {
   "cell_type": "code",
   "execution_count": null,
   "metadata": {},
   "outputs": [],
   "source": []
  },
  {
   "cell_type": "markdown",
   "metadata": {},
   "source": []
  }
 ],
 "metadata": {
  "kernelspec": {
   "display_name": "default",
   "language": "python",
   "name": "python3"
  },
  "language_info": {
   "codemirror_mode": {
    "name": "ipython",
    "version": 3
   },
   "file_extension": ".py",
   "mimetype": "text/x-python",
   "name": "python",
   "nbconvert_exporter": "python",
   "pygments_lexer": "ipython3",
   "version": "3.11.11"
  }
 },
 "nbformat": 4,
 "nbformat_minor": 2
}
