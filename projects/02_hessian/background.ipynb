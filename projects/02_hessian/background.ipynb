{
 "cells": [
  {
   "cell_type": "markdown",
   "metadata": {},
   "source": [
    "# Project 1\n",
    "## Part 1: Hessian Calculation\n",
    "\n",
    "\n",
    "In this project, you will calculate the second derivative or \"Hessian\" matrix of\n",
    "a molecule's *potential surface* (PES) at a particular point.\n",
    "$$\n",
    "    \\mathbf{H} = \n",
    "    \\begin{pmatrix}\n",
    "        H_{11} &\n",
    "        H_{12} &\n",
    "        \\cdots \\\\\n",
    "        H_{21} &\n",
    "        H_{22} &\n",
    "        \\cdots \\\\\n",
    "        \\vdots & \\vdots & \\ddots\n",
    "    \\end{pmatrix} =\n",
    "    \\begin{pmatrix}\n",
    "        \\frac{\\partial^2 E}{\\partial q_1^2} &\n",
    "        \\frac{\\partial^2 E}{\\partial q_1 \\partial q_2} &\n",
    "        \\cdots \\\\\n",
    "        \\frac{\\partial^2 E}{\\partial q_2 \\partial q_1} &\n",
    "        \\frac{\\partial^2 E}{\\partial q_2^2} &\n",
    "        \\cdots \\\\\n",
    "        \\vdots & \\vdots & \\ddots\n",
    "    \\end{pmatrix}\n",
    "$$\n",
    "Here, $q_1, q_2, ..., q_{3n}$ are elements of a vector containing atomic position coordinates of a molecule with $n$ atoms, $\\mathbf{q}=(x_1, y_1, z_1, ..., x_n, y_n, z_n)$.\n",
    "\n",
    "Just like the second derivative of a 1D function, the Hessian matrix describes\n",
    "the curvature of a function (in this case, the PES).\n",
    "At an equilibrium structure, this can be used to determine the vibrational\n",
    "states of a molecule.  In a future project, we will do just that."
   ]
  },
  {
   "cell_type": "markdown",
   "metadata": {},
   "source": [
    "### Differentiation by finite differences\n",
    "\n",
    "Derivatives of a function can be determined numerically by shifting its\n",
    "arguments by a small amount $d$ and analyzing the change in the function's value.\n",
    "This is known as the\n",
    "[finite difference](https://en.wikipedia.org/wiki/Finite_difference#Higher-order_differences)\n",
    "method of differentation.\n",
    "The beauty of this technique is that it can be applied even to functions without\n",
    "a known formula, such as the electronic energy of a molecule.\n",
    "\n",
    "To calculate the Hessian of the PES at an equilibrium structure, we will use the\n",
    "following finite difference formulas for its diagonal and off-diagonal elements:\n",
    "$$\n",
    "\\begin{align*}\n",
    "    H_{ii}\n",
    "    =\n",
    "    \\frac{\\partial^2 E}{\\partial q_i^2}\n",
    "    =&\n",
    "    \\frac{1}{d^2}\n",
    "    (E(q_i+d) + E(q_i-d) - 2E(q_i))\n",
    "    \\\\\n",
    "    H_{ij}\n",
    "    =\n",
    "    \\frac{\\partial^2 E}{\\partial q_i \\partial q_j}\n",
    "    =&\n",
    "    \\frac{1}{2d^2}\n",
    "    (\n",
    "    E(q_i+d, q_j+d) + E(q_i-d, e_j-d) - E(q_i+d,q_j) - E(q_i-d,q_j) \\\\\n",
    "    &- E(q_i,q_j+d) - E(q_i,q_j-d) + 2E(q_i, q_j)\n",
    "    )\n",
    "\\end{align*}\n",
    "$$\n",
    "These formulas are exact in the limit $d\\rightarrow0$.\n",
    "For finite displacements, the error grows as $d^2$, so it is best to choose a\n",
    "value that is small as possible without introducing noise due to\n",
    "[floating-point precision errors](https://en.wikipedia.org/wiki/Floating-point_error_mitigation).\n",
    "For this project, we will use a value of 0.005 Bohr.\n",
    "\n",
    "You can learn how to derive formulas like these for yourself by reading the `theory.pdf` document in this folder.\n",
    "(If you are in VS code, you will need to open it with an external PDF viewer.)"
   ]
  },
  {
   "cell_type": "markdown",
   "metadata": {},
   "source": [
    "### Calculating a Hessian with QC\n",
    "\n",
    "You will be writing your own Hessian calculator for this project. \n",
    "To check your answer, you can also run a Hessian calculation directly with\n",
    "`qcop` as shown below."
   ]
  },
  {
   "cell_type": "code",
   "execution_count": 8,
   "metadata": {},
   "outputs": [
    {
     "name": "stdout",
     "output_type": "stream",
     "text": [
      "Hessian (first row): [ 0.454 -0.04   0.015 -0.243 -0.002  0.017 -0.062 -0.034 -0.042 -0.042\n",
      " -0.005  0.028 -0.075  0.079 -0.022 -0.016 -0.002  0.002 -0.016  0.003\n",
      "  0.002]\n"
     ]
    }
   ],
   "source": [
    "from protomol import smiles, qc\n",
    "import qcio\n",
    "import qcop\n",
    "import numpy\n",
    "\n",
    "# Generate a structure\n",
    "smi = \"C[CH2]\"  # SMILES formula for propyl radical\n",
    "geo = smiles.geometry(smi)\n",
    "struc = qc.struc.from_geometry(geo)\n",
    "\n",
    "\n",
    "# Calculate the Hessian\n",
    "prog_inp = qcio.ProgramInput(\n",
    "    structure=struc, calctype=\"hessian\", model={\"method\": \"gfn2\"}\n",
    ")\n",
    "prog_out = qcop.compute(\"crest\", prog_inp)\n",
    "\n",
    "# Print the result\n",
    "hessian = prog_out.results.hessian\n",
    "print(\"Hessian (first row):\", numpy.round(hessian[0], 3))"
   ]
  },
  {
   "cell_type": "markdown",
   "metadata": {},
   "source": [
    "### Next step: learn the [theory](theory.pdf) and complete the [project](project.ipynb)\n",
    "\n",
    "It is entirely possible to complete the programming project before learning the\n",
    "theory, so you can do these in whatever order is comfortable to you.\n",
    "Together, these make an excellent introduction to the two essential skills of a\n",
    "quantum chemist:\n",
    "(1.) deriving formulas for calculating properties of interest, and\n",
    "(2.) writing the code to implement those calculations."
   ]
  }
 ],
 "metadata": {
  "kernelspec": {
   "display_name": "default",
   "language": "python",
   "name": "python3"
  },
  "language_info": {
   "codemirror_mode": {
    "name": "ipython",
    "version": 3
   },
   "file_extension": ".py",
   "mimetype": "text/x-python",
   "name": "python",
   "nbconvert_exporter": "python",
   "pygments_lexer": "ipython3",
   "version": "3.11.11"
  }
 },
 "nbformat": 4,
 "nbformat_minor": 2
}
