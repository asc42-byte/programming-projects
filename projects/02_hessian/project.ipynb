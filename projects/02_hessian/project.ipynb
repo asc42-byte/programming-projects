{
 "cells": [
  {
   "cell_type": "markdown",
   "metadata": {},
   "source": [
    "### Project: Calculate a Hessian\n",
    "\n",
    "Do this exercise after reading through [background.ipynb](background.ipynb).\n",
    "\n",
    "**Project**: calculate the Hessian of a molecule at its equilibrium structure. Steps:\n",
    "1. Generate a starting structure from a SMILES string using `protomol`\n",
    "2. Optimize the structure with GFN2-xTB using `qcop`\n",
    "3. By displacing the equilibrium structure and running energy calculations,\n",
    "calculate the Hessian of the PES at equilibrium.\n",
    "4. Check your answer by calculating the same Hessian directly with `qcop`.\n",
    "\n",
    "Feel free to add functions to `protomol.geom` to help you in this.\n",
    "Remember, though, that all functions in that submodule should act on one or more\n",
    "`Geometry` objects.\n",
    "If you need to define additional functions, you can put them in\n",
    "[util.py](util.py) inside this folder.\n",
    "\n",
    "In a future project, we will use the Hessian to calculate the molecule's vibrational states."
   ]
  },
  {
   "cell_type": "code",
   "execution_count": null,
   "metadata": {},
   "outputs": [],
   "source": [
    "# 1. Generate a starting structure from a SMILES string using `protomol`\n",
    "print(\"Your code goes here\")"
   ]
  },
  {
   "cell_type": "code",
   "execution_count": null,
   "metadata": {},
   "outputs": [],
   "source": [
    "# 2. Optimize the structure with GFN2-xTB using `qcop`\n",
    "print(\"Your code goes here\")"
   ]
  },
  {
   "cell_type": "code",
   "execution_count": 8,
   "metadata": {},
   "outputs": [
    {
     "data": {
      "text/plain": [
       "'Hello, Bob. Your code goes here!'"
      ]
     },
     "execution_count": 8,
     "metadata": {},
     "output_type": "execute_result"
    }
   ],
   "source": [
    "# 3. By displacing the equilibrium structure and running energy calculations,\n",
    "# calculate the Hessian of the PES at equilibrium.\n",
    "import util\n",
    "\n",
    "util.example_function(name=\"Bob. Your code goes here\")"
   ]
  },
  {
   "cell_type": "code",
   "execution_count": 2,
   "metadata": {},
   "outputs": [
    {
     "name": "stdout",
     "output_type": "stream",
     "text": [
      "Your code goes here\n"
     ]
    }
   ],
   "source": [
    "# 4. Check your answer by calculating the same Hessian directly with `qcop`.\n",
    "print(\"Your code goes here\")"
   ]
  }
 ],
 "metadata": {
  "kernelspec": {
   "display_name": "default",
   "language": "python",
   "name": "python3"
  },
  "language_info": {
   "codemirror_mode": {
    "name": "ipython",
    "version": 3
   },
   "file_extension": ".py",
   "mimetype": "text/x-python",
   "name": "python",
   "nbconvert_exporter": "python",
   "pygments_lexer": "ipython3",
   "version": "3.11.11"
  }
 },
 "nbformat": 4,
 "nbformat_minor": 2
}
