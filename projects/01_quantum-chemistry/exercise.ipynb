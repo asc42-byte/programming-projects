{
 "cells": [
  {
   "cell_type": "markdown",
   "metadata": {},
   "source": [
    "### Exercise: Open the Hood\n",
    "\n",
    "Do this exercise after reading through [background.ipynb](background.ipynb).\n",
    "\n",
    "To understand what `protomol` is doing under the hood, let us try to\n",
    "re-implement some of its functionalities through direct calls to the libraries\n",
    "it uses.  Specifically, your assignment is to do the following:\n",
    "\n",
    "1. Use [RDKit](https://www.rdkit.org/docs/GettingStartedInPython.html) to read the SMILES string into a `Mol` object.\n",
    "2. Add molecular coordinates to the `Mol` object.\n",
    "3. Determine the atom count, atomic symbols, coordinates, charge, and spin from\n",
    "the `Mol` object. Store the coordinates as a\n",
    "[NumPy](https://numpy.org/doc/2.2/user/quickstart.html) array.\n",
    "4. Convert the coordinates from Angstroms to Bohr using [Pint](https://pint.readthedocs.io/en/stable/getting/tutorial.html).\n",
    "5. Visualize the 3D structure using [3Dmol](https://3dmol.org/).\n",
    "\n",
    "Your code should do these tasks *without* calling `protomol`. However, you may\n",
    "look through the `protomol` code to help you figure out how to do these things.\n",
    "This will help you familiarize yourself more with the structure of the code and\n",
    "prepare to contribute to it. You are also encouraged to read the documentation\n",
    "of the above packages and use any other resources (including ChatGPT, etc.) to\n",
    "help you along. As a last resort, the solutions are given for you in\n",
    "[solution.ipynb](solution.ipynb).\n",
    "\n",
    "Whatever resources you use, try to make sure that you understand what each line\n",
    "of your code is doing."
   ]
  },
  {
   "cell_type": "code",
   "execution_count": null,
   "metadata": {},
   "outputs": [],
   "source": [
    "# 1. Use RDKit to read the SMILES string into a `Mol` object\n",
    "print(\"Your code goes here.\")"
   ]
  },
  {
   "cell_type": "code",
   "execution_count": null,
   "metadata": {},
   "outputs": [],
   "source": [
    "# 2. Add molecular coordinates to the `Mol` object.\n",
    "print(\"Your code goes here.\")"
   ]
  },
  {
   "cell_type": "code",
   "execution_count": null,
   "metadata": {},
   "outputs": [],
   "source": [
    "# 3. Determine the atom count, atomic symbols, coordinates, charge, and spin\n",
    "# from the `Mol` object. Store the coordinates as a NumPy array.\n",
    "print(\"Your code goes here.\")"
   ]
  },
  {
   "cell_type": "code",
   "execution_count": null,
   "metadata": {},
   "outputs": [],
   "source": [
    "# 4. Convert the coordinates from Angstroms to Bohr using Pint\n",
    "print(\"Your code goes here.\")"
   ]
  },
  {
   "cell_type": "code",
   "execution_count": null,
   "metadata": {},
   "outputs": [],
   "source": [
    "# 5. Visualize the 3D structure using 3Dmol\n",
    "print(\"Your code goes here.\")"
   ]
  }
 ],
 "metadata": {
  "kernelspec": {
   "display_name": "default",
   "language": "python",
   "name": "python3"
  },
  "language_info": {
   "codemirror_mode": {
    "name": "ipython",
    "version": 3
   },
   "file_extension": ".py",
   "mimetype": "text/x-python",
   "name": "python",
   "nbconvert_exporter": "python",
   "pygments_lexer": "ipython3",
   "version": "3.11.11"
  }
 },
 "nbformat": 4,
 "nbformat_minor": 2
}
