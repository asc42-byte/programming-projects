{
 "cells": [
  {
   "cell_type": "markdown",
   "metadata": {},
   "source": [
    "# Introduction\n",
    "## Part 2: Quantum Chemistry\n",
    "\n",
    "In this tutorial, you will learn how to run basic quantum chemistry\n",
    "calculations.\n",
    "Quantum chemistry uses quantum mechanics to predict chemical properties.\n",
    "\n",
    "### The Born-Oppenheimer Approximation\n",
    "\n",
    "A fundamental simplifying assumtion in most (not all) quantum chemistry\n",
    "calculations is the\n",
    "[Born-Oppenheimer approximation](https://en.wikipedia.org/wiki/Born%E2%80%93Oppenheimer_approximation),\n",
    "which assumes that the electrons in a molecule move so quickly that they\n",
    "rearrange almost instantaneously with any nuclear motion.\n",
    "This is sometimes called the \"flies on an ox model.\"\n",
    "This allows the molecular\n",
    "[Schrödinger equation](https://en.wikipedia.org/wiki/Schr%C3%B6dinger_equation)\n",
    "to be separated into two simpler equations:\n",
    "$$\n",
    "\\begin{align*}\n",
    "    \\hat{H}_\\text{e}(\\mathbf{r}_\\text{n})\n",
    "    \\Psi_\\text{e}(\\mathbf{r}_\\text{e}; \\mathbf{r}_\\text{n})\n",
    "    =&\n",
    "    E_\\text{e}(\\mathbf{r}_\\text{n})\n",
    "    \\Psi_\\text{e}(\\mathbf{r}_\\text{e}; \\mathbf{r}_\\text{n})\n",
    "    \\\\\n",
    "    (\\hat{T}_\\text{n} + E_\\text{e}(\\mathbf{r}_\\text{n}))\n",
    "    \\Psi_\\text{n}(\\mathbf{r}_\\text{n})\n",
    "    =& E_\\text{n}\n",
    "    \\Psi_\\text{n}(\\mathbf{r}_\\text{n})\n",
    "\\end{align*}\n",
    "$$\n",
    "\n",
    "If you have not taken a physical chemistry or quantum mechanics course, these\n",
    "equations may not make much sense to you.\n",
    "For our purposes, you only need a qualitative understanding of the\n",
    "Born-Oppenheimer approximation:\n",
    "Qualitatively, these equations mean that the total energy of the electrons or\n",
    "*electronic energy*,\n",
    "$E_\\text{e}(\\mathbf{r}_\\text{n})$,\n",
    "defines the potential energy of the nuclei.\n",
    "It is this *potential energy surface* (PES) that governs nuclear motion and is\n",
    "fundamental to all of quantum chemistry.\n",
    "The general workflow in quantum chemistry is therefore a two-step process:\n",
    "1. Calculate relevant points on the PES of the molecule(s) of interest. These are called *electronic structure calculations*.\n",
    "2. Use these energies to determine properties of a molecule as a whole.\n",
    "\n",
    "To see how this connects with things you may have seen before, consider a reaction energy diagram:\n",
    "![reaction energy diagram](../../.github/chemistry-energy-diagram.svg)\n",
    "\n",
    "This diagram represents a slice of the PES for a reaction.\n",
    "If we can determine the sequence of molecular structures or \"geometries\"\n",
    "connecting the reactants to the products for this reaction, we can calculate the\n",
    "above energy diagram by running an electronic structure calculation for each of\n",
    "these points.\n",
    "This information, in turn can be used to calculate properties of the reaction, such as the reaction rate."
   ]
  },
  {
   "cell_type": "markdown",
   "metadata": {},
   "source": [
    "####"
   ]
  },
  {
   "cell_type": "markdown",
   "metadata": {},
   "source": [
    "### `protomol`\n",
    "\n",
    "[`protomol`](../../src/protomol/) is a helper module that goes along with\n",
    "these programming projects and provides some convenience functions for\n",
    "interacting with various cheminformatics libraries. You will be modifying and\n",
    "adding to `protomol` as you go along, so it is worth getting familiar with the\n",
    "basic structure.\n",
    "\n",
    "`protomol` is organized as a series of submodules, including:\n",
    " - [geom](../../src/protomol/geom.py): Functions for working with molecular structures or \"geometries\"\n",
    " - [smiles](../../src/protomol/smiles.py): Functions for working with [SMILES strings](https://en.wikipedia.org/wiki/Simplified_Molecular_Input_Line_Entry_System#Examples)\n",
    " - [rd.mol](../../src/protomol/rd/mol.py): Functions for working with the `Mol` objects of the cheminformatics library [RDKit](https://www.rdkit.org/docs/GettingStartedInPython.html)\n",
    "\n",
    "Each of these submodules consists of functions acting on the given data type,\n",
    "along with a series of \"constructor\" functions for creating the data type from\n",
    "another.\n",
    "The constructor functions are all named `from_<other data type name>`."
   ]
  },
  {
   "cell_type": "markdown",
   "metadata": {},
   "source": [
    "The following example shows how you might use these submodules.\n",
    "It converts a SMILES string to a `Geometry` data structure and extracts various\n",
    "information for it."
   ]
  },
  {
   "cell_type": "code",
   "execution_count": 1,
   "metadata": {},
   "outputs": [
    {
     "name": "stdout",
     "output_type": "stream",
     "text": [
      "Atom count: 7\n",
      "Symbols: ['C', 'C', 'H', 'H', 'H', 'H', 'H']\n",
      "Coordinates (in Angstrom): [[-1.15183444e+00  1.58276749e-03 -8.91999558e-03]\n",
      " [ 1.63023378e+00 -1.41875685e-01 -5.63693033e-01]\n",
      " [-2.10893957e+00  9.31392854e-01 -1.65090989e+00]\n",
      " [-1.48788168e+00  1.22589432e+00  1.67560268e+00]\n",
      " [-1.99239882e+00 -1.88989478e+00  3.33461032e-01]\n",
      " [ 2.53284069e+00  1.66509626e+00 -5.15261351e-02]\n",
      " [ 2.57798004e+00 -1.79219573e+00  2.65985341e-01]]\n",
      "Charge: 0\n",
      "Spin: 1\n"
     ]
    }
   ],
   "source": [
    "from protomol import smiles, geom\n",
    "\n",
    "smi = \"C[CH2]\"  # SMILES formula for propyl radical\n",
    "\n",
    "# Generate a geometry for the SMILES formula\n",
    "geo = smiles.geometry(smi)\n",
    "\n",
    "# Get information from the geometry data structure\n",
    "natms = geom.count(geo)\n",
    "syms = geom.symbols(geo)\n",
    "xyzs = geom.coordinates(geo)\n",
    "char = geom.charge(geo)\n",
    "spin = geom.spin(geo)\n",
    "\n",
    "print(\"Atom count:\", natms)\n",
    "print(\"Symbols:\", syms)\n",
    "print(\"Coordinates (in Angstrom):\", xyzs)\n",
    "print(\"Charge:\", char)\n",
    "print(\"Spin:\", spin)"
   ]
  },
  {
   "cell_type": "markdown",
   "metadata": {},
   "source": [
    "In a Jupyter notebook, you can also display the molecular geometry as follows."
   ]
  },
  {
   "cell_type": "code",
   "execution_count": 2,
   "metadata": {},
   "outputs": [
    {
     "data": {
      "application/3dmoljs_load.v0": "<div id=\"3dmolviewer_17381615814940104\"  style=\"position: relative; width: 600px; height: 450px;\">\n        <p id=\"3dmolwarning_17381615814940104\" style=\"background-color:#ffcccc;color:black\">3Dmol.js failed to load for some reason.  Please check your browser console for error messages.<br></p>\n        </div>\n<script>\n\nvar loadScriptAsync = function(uri){\n  return new Promise((resolve, reject) => {\n    //this is to ignore the existence of requirejs amd\n    var savedexports, savedmodule;\n    if (typeof exports !== 'undefined') savedexports = exports;\n    else exports = {}\n    if (typeof module !== 'undefined') savedmodule = module;\n    else module = {}\n\n    var tag = document.createElement('script');\n    tag.src = uri;\n    tag.async = true;\n    tag.onload = () => {\n        exports = savedexports;\n        module = savedmodule;\n        resolve();\n    };\n  var firstScriptTag = document.getElementsByTagName('script')[0];\n  firstScriptTag.parentNode.insertBefore(tag, firstScriptTag);\n});\n};\n\nif(typeof $3Dmolpromise === 'undefined') {\n$3Dmolpromise = null;\n  $3Dmolpromise = loadScriptAsync('https://cdnjs.cloudflare.com/ajax/libs/3Dmol/2.4.2/3Dmol-min.js');\n}\n\nvar viewer_17381615814940104 = null;\nvar warn = document.getElementById(\"3dmolwarning_17381615814940104\");\nif(warn) {\n    warn.parentNode.removeChild(warn);\n}\n$3Dmolpromise.then(function() {\nviewer_17381615814940104 = $3Dmol.createViewer(document.getElementById(\"3dmolviewer_17381615814940104\"),{backgroundColor:\"white\"});\nviewer_17381615814940104.zoomTo();\n\tviewer_17381615814940104.addModel(\"7\\n\\nC  -0.609525   0.000838  -0.004720\\nC   0.862683  -0.075077  -0.298294\\nH  -1.116003   0.492872  -0.873624\\nH  -0.787353   0.648715   0.886691\\nH  -1.054332  -1.000089   0.176460\\nH   1.340322   0.881131  -0.027266\\nH   1.364208  -0.948389   0.140753\",\"xyz\");\n\tviewer_17381615814940104.setStyle({\"stick\": {}, \"sphere\": {\"scale\": 0.3}});\n\tviewer_17381615814940104.zoomTo();\nviewer_17381615814940104.render();\n});\n</script>",
      "text/html": [
       "<div id=\"3dmolviewer_17381615814940104\"  style=\"position: relative; width: 600px; height: 450px;\">\n",
       "        <p id=\"3dmolwarning_17381615814940104\" style=\"background-color:#ffcccc;color:black\">3Dmol.js failed to load for some reason.  Please check your browser console for error messages.<br></p>\n",
       "        </div>\n",
       "<script>\n",
       "\n",
       "var loadScriptAsync = function(uri){\n",
       "  return new Promise((resolve, reject) => {\n",
       "    //this is to ignore the existence of requirejs amd\n",
       "    var savedexports, savedmodule;\n",
       "    if (typeof exports !== 'undefined') savedexports = exports;\n",
       "    else exports = {}\n",
       "    if (typeof module !== 'undefined') savedmodule = module;\n",
       "    else module = {}\n",
       "\n",
       "    var tag = document.createElement('script');\n",
       "    tag.src = uri;\n",
       "    tag.async = true;\n",
       "    tag.onload = () => {\n",
       "        exports = savedexports;\n",
       "        module = savedmodule;\n",
       "        resolve();\n",
       "    };\n",
       "  var firstScriptTag = document.getElementsByTagName('script')[0];\n",
       "  firstScriptTag.parentNode.insertBefore(tag, firstScriptTag);\n",
       "});\n",
       "};\n",
       "\n",
       "if(typeof $3Dmolpromise === 'undefined') {\n",
       "$3Dmolpromise = null;\n",
       "  $3Dmolpromise = loadScriptAsync('https://cdnjs.cloudflare.com/ajax/libs/3Dmol/2.4.2/3Dmol-min.js');\n",
       "}\n",
       "\n",
       "var viewer_17381615814940104 = null;\n",
       "var warn = document.getElementById(\"3dmolwarning_17381615814940104\");\n",
       "if(warn) {\n",
       "    warn.parentNode.removeChild(warn);\n",
       "}\n",
       "$3Dmolpromise.then(function() {\n",
       "viewer_17381615814940104 = $3Dmol.createViewer(document.getElementById(\"3dmolviewer_17381615814940104\"),{backgroundColor:\"white\"});\n",
       "viewer_17381615814940104.zoomTo();\n",
       "\tviewer_17381615814940104.addModel(\"7\\n\\nC  -0.609525   0.000838  -0.004720\\nC   0.862683  -0.075077  -0.298294\\nH  -1.116003   0.492872  -0.873624\\nH  -0.787353   0.648715   0.886691\\nH  -1.054332  -1.000089   0.176460\\nH   1.340322   0.881131  -0.027266\\nH   1.364208  -0.948389   0.140753\",\"xyz\");\n",
       "\tviewer_17381615814940104.setStyle({\"stick\": {}, \"sphere\": {\"scale\": 0.3}});\n",
       "\tviewer_17381615814940104.zoomTo();\n",
       "viewer_17381615814940104.render();\n",
       "});\n",
       "</script>"
      ]
     },
     "metadata": {},
     "output_type": "display_data"
    }
   ],
   "source": [
    "geom.display(geo)"
   ]
  },
  {
   "cell_type": "markdown",
   "metadata": {},
   "source": [
    "Initially, we will be primarily focused on the `Geometry` data structure of the `geom` submodule, which has the following attributes:\n",
    " - `symbols`: The list of atomic symbols\n",
    " - `coordinates`: A $n\\times3$ numpy array of coordinates in (units: [Bohr radii](https://en.wikipedia.org/wiki/Bohr_radius))\n",
    " - `charge`: The total charge of the molecule\n",
    " - `spin`: The total spin of the electrons in the molecule ($2S$ where $S$ is the total spin quantum number)\n",
    "\n",
    "You can print the data structure to see the values of these attributes."
   ]
  },
  {
   "cell_type": "code",
   "execution_count": 3,
   "metadata": {},
   "outputs": [
    {
     "name": "stdout",
     "output_type": "stream",
     "text": [
      "symbols=['C', 'C', 'H', 'H', 'H', 'H', 'H'] coordinates=array([[-1.15183444e+00,  1.58276749e-03, -8.91999558e-03],\n",
      "       [ 1.63023378e+00, -1.41875685e-01, -5.63693033e-01],\n",
      "       [-2.10893957e+00,  9.31392854e-01, -1.65090989e+00],\n",
      "       [-1.48788168e+00,  1.22589432e+00,  1.67560268e+00],\n",
      "       [-1.99239882e+00, -1.88989478e+00,  3.33461032e-01],\n",
      "       [ 2.53284069e+00,  1.66509626e+00, -5.15261351e-02],\n",
      "       [ 2.57798004e+00, -1.79219573e+00,  2.65985341e-01]]) charge=0 spin=1\n"
     ]
    }
   ],
   "source": [
    "print(geo)"
   ]
  },
  {
   "cell_type": "markdown",
   "metadata": {},
   "source": [
    "While these values can be accessed directly as `geo.symbols`, `geo.coordinates`,\n",
    "etc., it is recommended to use the functions above to access these values\n",
    "instead.\n",
    "These functions can be used to process the values for convenience, such as converting the units of the coordinates."
   ]
  },
  {
   "cell_type": "code",
   "execution_count": 4,
   "metadata": {},
   "outputs": [
    {
     "name": "stdout",
     "output_type": "stream",
     "text": [
      "Coordinates in Bohr:\n",
      "[[-1.15183444e+00  1.58276749e-03 -8.91999558e-03]\n",
      " [ 1.63023378e+00 -1.41875685e-01 -5.63693033e-01]\n",
      " [-2.10893957e+00  9.31392854e-01 -1.65090989e+00]\n",
      " [-1.48788168e+00  1.22589432e+00  1.67560268e+00]\n",
      " [-1.99239882e+00 -1.88989478e+00  3.33461032e-01]\n",
      " [ 2.53284069e+00  1.66509626e+00 -5.15261351e-02]\n",
      " [ 2.57798004e+00 -1.79219573e+00  2.65985341e-01]]\n",
      "Coordinates in Angstroms:\n",
      "[[-6.09524539e-01  8.37564487e-04 -4.72025838e-03]\n",
      " [ 8.62682566e-01 -7.50773794e-02 -2.98293507e-01]\n",
      " [-1.11600276e+00  4.92871873e-01 -8.73623891e-01]\n",
      " [-7.87353080e-01  6.48715336e-01  8.86690753e-01]\n",
      " [-1.05433205e+00 -1.00008925e+00  1.76459979e-01]\n",
      " [ 1.34032157e+00  8.81130994e-01 -2.72664564e-02]\n",
      " [ 1.36420829e+00 -9.48389139e-01  1.40753381e-01]]\n"
     ]
    }
   ],
   "source": [
    "xyzs_bohr = geom.coordinates(geo)  # equivalent to geo.coordinates\n",
    "xyzs_angs = geom.coordinates(geo, unit=\"angstrom\")\n",
    "\n",
    "print(\"Coordinates in Bohr:\")\n",
    "print(xyzs_bohr)  \n",
    "\n",
    "print(\"Coordinates in Angstroms:\")\n",
    "print(xyzs_angs)"
   ]
  },
  {
   "cell_type": "markdown",
   "metadata": {},
   "source": [
    "### Next step: complete [exercise.ipynb](exercise.ipynb)"
   ]
  }
 ],
 "metadata": {
  "kernelspec": {
   "display_name": "default",
   "language": "python",
   "name": "python3"
  },
  "language_info": {
   "codemirror_mode": {
    "name": "ipython",
    "version": 3
   },
   "file_extension": ".py",
   "mimetype": "text/x-python",
   "name": "python",
   "nbconvert_exporter": "python",
   "pygments_lexer": "ipython3",
   "version": "3.11.11"
  }
 },
 "nbformat": 4,
 "nbformat_minor": 2
}
