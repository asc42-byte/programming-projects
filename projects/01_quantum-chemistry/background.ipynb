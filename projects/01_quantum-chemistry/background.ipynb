{
 "cells": [
  {
   "cell_type": "markdown",
   "metadata": {},
   "source": [
    "# Introduction\n",
    "## Part 2: Quantum Chemistry\n",
    "\n",
    "In this tutorial, you will learn how to run basic quantum chemistry\n",
    "calculations.\n",
    "Quantum chemistry uses quantum mechanics to predict chemical properties.\n",
    "\n",
    "### Potential energy surfaces\n",
    "\n",
    "A fundamental simplifying assumtion in most (not all) quantum chemistry\n",
    "calculations is the\n",
    "[Born-Oppenheimer approximation](https://en.wikipedia.org/wiki/Born%E2%80%93Oppenheimer_approximation),\n",
    "which assumes that the electrons in a molecule move so quickly that they\n",
    "rearrange instantaneously as the nuclei move.\n",
    "This is sometimes described as the \"flies on an ox model.\"\n",
    "This approximation separates the molecular\n",
    "[Schrödinger equation](https://en.wikipedia.org/wiki/Schr%C3%B6dinger_equation)\n",
    "into two simpler equations:\n",
    "$$\n",
    "\\begin{align*}\n",
    "    \\hat{H}_\\text{e}(\\mathbf{r}_\\text{n})\n",
    "    \\Psi_\\text{e}(\\mathbf{r}_\\text{e}; \\mathbf{r}_\\text{n})\n",
    "    =&\n",
    "    E_\\text{e}(\\mathbf{r}_\\text{n})\n",
    "    \\Psi_\\text{e}(\\mathbf{r}_\\text{e}; \\mathbf{r}_\\text{n})\n",
    "    \\\\\n",
    "    (\\hat{T}_\\text{n} + E_\\text{e}(\\mathbf{r}_\\text{n}))\n",
    "    \\Psi_\\text{n}(\\mathbf{r}_\\text{n})\n",
    "    =& E_\\text{n}\n",
    "    \\Psi_\\text{n}(\\mathbf{r}_\\text{n})\n",
    "\\end{align*}\n",
    "$$\n",
    "\n",
    "If you have not taken a physical chemistry or quantum mechanics course, these\n",
    "equations may not make much sense to you.\n",
    "For our purposes, the important point is that the total energy of the\n",
    "electrons is a function of the nuclear coordinates,\n",
    "$E_\\text{e}(\\mathbf{r}_\\text{n})$,\n",
    "and that this function defines the *potential energy* of the nuclei.\n",
    "That is, these electronic energies comprise the *potential energy surface* (PES)\n",
    "that governs how the atoms in a molecule move and react.\n",
    "The concept of the PES is fundamental to all of quantum chemistry.\n",
    "\n",
    "Through the Born-Oppenheimer approximation, quantum chemistry becomes a two-step\n",
    "process:\n",
    "1. The first step is to calculate PES values for the relevant molecular\n",
    "structures. These are called *electronic structure calculations* because they\n",
    "solve for the state of the electrons. Sometimes they are also called\n",
    "*single-point calculations* because they give us information about one point on\n",
    "the PES.\n",
    "2. Use these energies to determine properties of the molecule or reaction of interest.\n",
    "\n",
    "To see how this connects with reality, consider a reaction energy diagram:\n",
    "![reaction energy diagram](../../.github/chemistry-energy-diagram.svg)\n",
    "\n",
    "This diagram represents a slice of the PES for a reaction.\n",
    "If we can determine the sequence of molecular structures or \"geometries\" between\n",
    "the reactants and the products of this reaction, we can generate the above\n",
    "energy diagram through electronic structure calculations on each of these\n",
    "points.\n",
    "In fact, this is exactly the kind of thing we can do to calculate the rate of a\n",
    "reaction using quantum chemistry."
   ]
  },
  {
   "cell_type": "markdown",
   "metadata": {},
   "source": [
    "### The QC Suite of Programs\n",
    "\n",
    "There are many quantum chemistry codes out there, each with their own syntax for\n",
    "invoking a calculation and printing the results.\n",
    "To mitigate this complexity, we will be making use of the QC suite of programs\n",
    "developed by Colton Hicks, which allows us to operate such programs through a\n",
    "common interface.\n",
    "This tutorial will introduce you to two of the modules that you will be\n",
    "interacting with in the QC suite:\n",
    "- [qcio](https://github.com/coltonbh/qcio) standardizes inputs and outputs to quantum chemistry programs. Documentation [here](https://qcio.coltonhicks.com/).\n",
    "- [qcop](https://github.com/coltonbh/qcop) runs quantum chemistry programs to calculate results. Documentation [here](https://qcop.coltonhicks.com/).\n",
    "\n",
    "Our `protomol` helper module already contains a submodule,\n",
    "[qc.struc](../../src/protomol/qc/struc.py), for working with the `Structure`\n",
    "objects used by `qcio`.\n",
    "\n",
    "The following code shows how to go from a SMILES string to a `qcio.Structure` object."
   ]
  },
  {
   "cell_type": "code",
   "execution_count": 1,
   "metadata": {},
   "outputs": [
    {
     "data": {
      "text/html": [
       "<div style=\"display: flex; flex-wrap: wrap; justify-content: center;\"><div id=\"3dmolviewer_17381705349227068\"  style=\"position: relative; width: 600px; height: 450px;\">\n",
       "        <p id=\"3dmolwarning_17381705349227068\" style=\"background-color:#ffcccc;color:black\">3Dmol.js failed to load for some reason.  Please check your browser console for error messages.<br></p>\n",
       "        </div>\n",
       "<script>\n",
       "\n",
       "var loadScriptAsync = function(uri){\n",
       "  return new Promise((resolve, reject) => {\n",
       "    //this is to ignore the existence of requirejs amd\n",
       "    var savedexports, savedmodule;\n",
       "    if (typeof exports !== 'undefined') savedexports = exports;\n",
       "    else exports = {}\n",
       "    if (typeof module !== 'undefined') savedmodule = module;\n",
       "    else module = {}\n",
       "\n",
       "    var tag = document.createElement('script');\n",
       "    tag.src = uri;\n",
       "    tag.async = true;\n",
       "    tag.onload = () => {\n",
       "        exports = savedexports;\n",
       "        module = savedmodule;\n",
       "        resolve();\n",
       "    };\n",
       "  var firstScriptTag = document.getElementsByTagName('script')[0];\n",
       "  firstScriptTag.parentNode.insertBefore(tag, firstScriptTag);\n",
       "});\n",
       "};\n",
       "\n",
       "if(typeof $3Dmolpromise === 'undefined') {\n",
       "$3Dmolpromise = null;\n",
       "  $3Dmolpromise = loadScriptAsync('https://cdnjs.cloudflare.com/ajax/libs/3Dmol/2.4.2/3Dmol-min.js');\n",
       "}\n",
       "\n",
       "var viewer_17381705349227068 = null;\n",
       "var warn = document.getElementById(\"3dmolwarning_17381705349227068\");\n",
       "if(warn) {\n",
       "    warn.parentNode.removeChild(warn);\n",
       "}\n",
       "$3Dmolpromise.then(function() {\n",
       "var viewergrid_17381705349227068 = null;\n",
       "viewergrid_17381705349227068 = $3Dmol.createViewerGrid(document.getElementById(\"3dmolviewer_17381705349227068\"),{rows: 1, cols: 1, control_all: true},{backgroundColor:\"white\"});\n",
       "viewer_17381705349227068 = viewergrid_17381705349227068[0][0];\n",
       "viewergrid_17381705349227068[0][0].zoomTo();\tviewergrid_17381705349227068[0][0].addModel(\"7\\nqcio_charge=0 qcio_multiplicity=2\\nC  -0.60952453857449762 0.00083756448598678 -0.00472025837649251\\nC  0.86268256591034331 -0.07507737929993123 -0.29829350679162786\\nH  -1.11600275650846292 0.49287187226349255 -0.87362389017667075\\nH  -0.78735307961134049 0.64871533577503648 0.88669075215296422\\nH  -1.05433204855901241 -1.00008924872104532 0.17645997896446813\\nH  1.34032156924717061 0.88113099386079674 -0.02726645642906531\\nH  1.36420828809579731 -0.94838913836433714 0.14075338065642407\\n\",\"xyz\");\n",
       "\tviewergrid_17381705349227068[0][0].addLabel(\" \",{\"position\": {\"x\": 300.0, \"y\": 0, \"z\": 0}, \"alignment\": \"topCenter\", \"fontSize\": 24, \"backgroundOpacity\": 0, \"fontColor\": \"black\", \"useScreen\": true});\n",
       "\tviewergrid_17381705349227068[0][0].addLabel(\" \",{\"position\": {\"x\": 300.0, \"y\": 450, \"z\": 0}, \"alignment\": \"bottomCenter\", \"fontSize\": 20, \"backgroundOpacity\": 0, \"fontColor\": \"black\", \"useScreen\": true});\n",
       "\tviewergrid_17381705349227068[0][0].setStyle({\"stick\": {}, \"sphere\": {\"scale\": 0.3}});\n",
       "\tviewergrid_17381705349227068[0][0].zoomTo();\n",
       "viewergrid_17381705349227068[0][0].render();\n",
       "});\n",
       "</script></div>"
      ],
      "text/plain": [
       "<IPython.core.display.HTML object>"
      ]
     },
     "metadata": {},
     "output_type": "display_data"
    }
   ],
   "source": [
    "from protomol import smiles, qc\n",
    "\n",
    "smi = \"C[CH2]\"\n",
    "geo = smiles.geometry(smi)\n",
    "struc = qc.struc.from_geometry(geo)\n",
    "qc.struc.display(struc)"
   ]
  },
  {
   "cell_type": "markdown",
   "metadata": {},
   "source": [
    "Next, we can use `qcop` to calculate the single-point electronic energy of our RDKit-generated starting structure."
   ]
  },
  {
   "cell_type": "code",
   "execution_count": 2,
   "metadata": {},
   "outputs": [
    {
     "name": "stdout",
     "output_type": "stream",
     "text": [
      "Energy: -6.725683011794641\n"
     ]
    }
   ],
   "source": [
    "import qcio\n",
    "import qcop\n",
    "\n",
    "# Define the calculation\n",
    "prog_inp = qcio.ProgramInput(\n",
    "    structure=struc, calctype=\"energy\", model={\"method\": \"gfn2\"}\n",
    ")\n",
    "\n",
    "# Run the calculation\n",
    "prog_out = qcop.compute(\"crest\", prog_inp)\n",
    "\n",
    "# Gather the results\n",
    "energy = prog_out.results.energy\n",
    "print(\"Energy:\", energy)"
   ]
  },
  {
   "cell_type": "markdown",
   "metadata": {},
   "source": [
    "Under the hood, this is using the quantum chemistry program\n",
    "[CREST](https://crest-lab.github.io/crest-docs/)\n",
    "to do the energy calculation, using the\n",
    "[GFN2-xTB](https://pubs.acs.org/doi/10.1021/acs.jctc.8b01176)\n",
    "electronic structure method.\n",
    "The energy is given in [atomic units](https://en.wikipedia.org/wiki/Atomic_units) ([Hartree](https://en.wikipedia.org/wiki/Hartree)).\n",
    "This gives us a point on the PES of ethyl radical, but not a very relevant one, because RDKit only gives us a chemically reasonable starting structure, not an equilibrium structure.\n",
    "\n",
    "To determine this molecule's *equilibrium structure*, we need to perform a structure optimization on the PES to find a local minimum.\n",
    "This can be done as follows."
   ]
  },
  {
   "cell_type": "code",
   "execution_count": 12,
   "metadata": {},
   "outputs": [
    {
     "name": "stdout",
     "output_type": "stream",
     "text": [
      "Energy (Hartree): -6.7352941698\n",
      "Energy change (Hartree): -0.0096111580053595\n"
     ]
    }
   ],
   "source": [
    "# Define the calculation\n",
    "prog_inp = qcio.ProgramInput(\n",
    "    structure=struc, calctype=\"optimization\", model={\"method\": \"gfn2\"}\n",
    ")\n",
    "\n",
    "# Run the calculation\n",
    "prog_out = qcop.compute(\"crest\", prog_inp)\n",
    "\n",
    "# Gather the results\n",
    "final_energy = prog_out.results.final_energy\n",
    "print(\"Energy (Hartree):\", final_energy)\n",
    "print(\"Energy change (Hartree):\", final_energy - energy)"
   ]
  },
  {
   "cell_type": "markdown",
   "metadata": {},
   "source": [
    "Notice that the final energy after optimization is now lower (more negative).\n",
    "We can use\n",
    "[Pint](https://pint.readthedocs.io/en/stable/getting/tutorial.html)\n",
    "to calculate this energy difference in more familiar units."
   ]
  },
  {
   "cell_type": "code",
   "execution_count": 11,
   "metadata": {},
   "outputs": [
    {
     "name": "stdout",
     "output_type": "stream",
     "text": [
      "Energy change (kcal/mole): -6.031092705080164\n",
      "Energy change (kJ/mole): -25.23409187805541\n"
     ]
    }
   ],
   "source": [
    "from pint import Quantity\n",
    "\n",
    "to_kcal = Quantity(\"hartree/molecule\").m_as(\"kcal/mole\")\n",
    "to_kj = Quantity(\"hartree/molecule\").m_as(\"kJ/mole\")\n",
    "\n",
    "print(\"Energy change (kcal/mole):\", (final_energy - energy) * to_kcal)\n",
    "print(\"Energy change (kJ/mole):\", (final_energy - energy) * to_kj)"
   ]
  },
  {
   "cell_type": "markdown",
   "metadata": {},
   "source": [
    "### Next step: move on to the first project!\n",
    "\n",
    "There is no exercise associated with this tutorial. You will be practicing the things you learned about here in the first programming project."
   ]
  }
 ],
 "metadata": {
  "kernelspec": {
   "display_name": "default",
   "language": "python",
   "name": "python3"
  },
  "language_info": {
   "codemirror_mode": {
    "name": "ipython",
    "version": 3
   },
   "file_extension": ".py",
   "mimetype": "text/x-python",
   "name": "python",
   "nbconvert_exporter": "python",
   "pygments_lexer": "ipython3",
   "version": "3.11.11"
  }
 },
 "nbformat": 4,
 "nbformat_minor": 2
}
