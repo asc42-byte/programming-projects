{
 "cells": [
  {
   "cell_type": "markdown",
   "metadata": {},
   "source": [
    "### Solution: Open the Hood"
   ]
  },
  {
   "cell_type": "code",
   "execution_count": 1,
   "metadata": {},
   "outputs": [
    {
     "data": {
      "image/png": "[encoded data removed]",
      "text/plain": [
       "<rdkit.Chem.rdchem.Mol at 0x7f050951a730>"
      ]
     },
     "execution_count": 1,
     "metadata": {},
     "output_type": "execute_result"
    }
   ],
   "source": [
    "# 1. Use RDKit to read the SMILES string into a `Mol` object\n",
    "from rdkit import Chem\n",
    "\n",
    "smi = \"C[CH2]\"  # SMILES formula for ethyl radical\n",
    "mol = Chem.MolFromSmiles(smi)  # Interpret SMILES formula\n",
    "mol # RDKit molecule objects are display-able"
   ]
  },
  {
   "cell_type": "code",
   "execution_count": 2,
   "metadata": {},
   "outputs": [
    {
     "data": {
      "image/png": "[encoded data removed]",
      "text/plain": [
       "<rdkit.Chem.rdchem.Mol at 0x7f04acaae810>"
      ]
     },
     "execution_count": 2,
     "metadata": {},
     "output_type": "execute_result"
    }
   ],
   "source": [
    "# 2. Add molecular coordinates to the `Mol` object.\n",
    "from rdkit.Chem import rdDistGeom\n",
    "\n",
    "mol = Chem.AddHs(mol)   # Add hydrogen atoms (missing in RDKit by default)\n",
    "rdDistGeom.EmbedMolecule(mol)\n",
    "mol"
   ]
  },
  {
   "cell_type": "code",
   "execution_count": null,
   "metadata": {},
   "outputs": [
    {
     "name": "stdout",
     "output_type": "stream",
     "text": [
      "Atom count: 7\n",
      "Symbols: ['C', 'C', 'H', 'H', 'H', 'H', 'H']\n",
      "Coordinates (in Angstrom): [[-6.09524539e-01  8.37564487e-04 -4.72025838e-03]\n",
      " [ 8.62682566e-01 -7.50773794e-02 -2.98293507e-01]\n",
      " [-1.11600276e+00  4.92871873e-01 -8.73623891e-01]\n",
      " [-7.87353080e-01  6.48715336e-01  8.86690753e-01]\n",
      " [-1.05433205e+00 -1.00008925e+00  1.76459979e-01]\n",
      " [ 1.34032157e+00  8.81130994e-01 -2.72664564e-02]\n",
      " [ 1.36420829e+00 -9.48389139e-01  1.40753381e-01]]\n",
      "Charge: 0\n",
      "Spin: 1\n"
     ]
    }
   ],
   "source": [
    "# 3. Determine the atom count, atomic symbols, coordinates, charge, and spin\n",
    "# from the `Mol` object. Store the coordinates as a NumPy array.\n",
    "from rdkit.Chem import Descriptors\n",
    "import numpy\n",
    "\n",
    "natms = mol.GetNumAtoms()\n",
    "syms = [a.GetSymbol() for a in mol.GetAtoms()]\n",
    "conf = mol.GetConformer()\n",
    "xyzs = numpy.array([conf.GetAtomPosition(i) for i in range(natms)])\n",
    "char = Chem.GetFormalCharge(mol)\n",
    "spin = Descriptors.NumRadicalElectrons(mol)\n",
    "\n",
    "print(\"Atom count:\", natms)\n",
    "print(\"Symbols:\", syms)\n",
    "print(\"Coordinates (in Angstrom):\", xyzs)\n",
    "print(\"Charge:\", char)\n",
    "print(\"Spin:\", spin)"
   ]
  },
  {
   "cell_type": "code",
   "execution_count": 4,
   "metadata": {},
   "outputs": [
    {
     "name": "stdout",
     "output_type": "stream",
     "text": [
      "Coordinates (in Bohr): [[-1.15183444e+00  1.58276749e-03 -8.91999558e-03]\n",
      " [ 1.63023378e+00 -1.41875685e-01 -5.63693033e-01]\n",
      " [-2.10893957e+00  9.31392854e-01 -1.65090989e+00]\n",
      " [-1.48788168e+00  1.22589432e+00  1.67560268e+00]\n",
      " [-1.99239882e+00 -1.88989478e+00  3.33461032e-01]\n",
      " [ 2.53284069e+00  1.66509626e+00 -5.15261351e-02]\n",
      " [ 2.57798004e+00 -1.79219573e+00  2.65985341e-01]]\n"
     ]
    }
   ],
   "source": [
    "# 4. Convert the coordinates from Angstroms to Bohr using Pint\n",
    "from pint import Quantity\n",
    "\n",
    "conv_factor = Quantity(\"angstrom\").m_as(\"bohr\")  # Conversion factor from Angstroms to Bohr\n",
    "xyzs_bohr = xyzs * conv_factor\n",
    "print(\"Coordinates (in Bohr):\", xyzs_bohr)"
   ]
  },
  {
   "cell_type": "code",
   "execution_count": 5,
   "metadata": {},
   "outputs": [
    {
     "data": {
      "application/3dmoljs_load.v0": "<div id=\"3dmolviewer_1738162195057832\"  style=\"position: relative; width: 600px; height: 450px;\">\n        <p id=\"3dmolwarning_1738162195057832\" style=\"background-color:#ffcccc;color:black\">3Dmol.js failed to load for some reason.  Please check your browser console for error messages.<br></p>\n        </div>\n<script>\n\nvar loadScriptAsync = function(uri){\n  return new Promise((resolve, reject) => {\n    //this is to ignore the existence of requirejs amd\n    var savedexports, savedmodule;\n    if (typeof exports !== 'undefined') savedexports = exports;\n    else exports = {}\n    if (typeof module !== 'undefined') savedmodule = module;\n    else module = {}\n\n    var tag = document.createElement('script');\n    tag.src = uri;\n    tag.async = true;\n    tag.onload = () => {\n        exports = savedexports;\n        module = savedmodule;\n        resolve();\n    };\n  var firstScriptTag = document.getElementsByTagName('script')[0];\n  firstScriptTag.parentNode.insertBefore(tag, firstScriptTag);\n});\n};\n\nif(typeof $3Dmolpromise === 'undefined') {\n$3Dmolpromise = null;\n  $3Dmolpromise = loadScriptAsync('https://cdnjs.cloudflare.com/ajax/libs/3Dmol/2.4.2/3Dmol-min.js');\n}\n\nvar viewer_1738162195057832 = null;\nvar warn = document.getElementById(\"3dmolwarning_1738162195057832\");\nif(warn) {\n    warn.parentNode.removeChild(warn);\n}\n$3Dmolpromise.then(function() {\nviewer_1738162195057832 = $3Dmol.createViewer(document.getElementById(\"3dmolviewer_1738162195057832\"),{backgroundColor:\"white\"});\nviewer_1738162195057832.zoomTo();\n\tviewer_1738162195057832.addModel(\"7\\n\\nC     -0.609525    0.000838   -0.004720\\nC      0.862683   -0.075077   -0.298294\\nH     -1.116003    0.492872   -0.873624\\nH     -0.787353    0.648715    0.886691\\nH     -1.054332   -1.000089    0.176460\\nH      1.340322    0.881131   -0.027266\\nH      1.364208   -0.948389    0.140753\\n\",\"xyz\");\n\tviewer_1738162195057832.setStyle({\"stick\": {}, \"sphere\": {\"scale\": 0.3}});\n\tviewer_1738162195057832.zoomTo();\nviewer_1738162195057832.render();\n});\n</script>",
      "text/html": [
       "<div id=\"3dmolviewer_1738162195057832\"  style=\"position: relative; width: 600px; height: 450px;\">\n",
       "        <p id=\"3dmolwarning_1738162195057832\" style=\"background-color:#ffcccc;color:black\">3Dmol.js failed to load for some reason.  Please check your browser console for error messages.<br></p>\n",
       "        </div>\n",
       "<script>\n",
       "\n",
       "var loadScriptAsync = function(uri){\n",
       "  return new Promise((resolve, reject) => {\n",
       "    //this is to ignore the existence of requirejs amd\n",
       "    var savedexports, savedmodule;\n",
       "    if (typeof exports !== 'undefined') savedexports = exports;\n",
       "    else exports = {}\n",
       "    if (typeof module !== 'undefined') savedmodule = module;\n",
       "    else module = {}\n",
       "\n",
       "    var tag = document.createElement('script');\n",
       "    tag.src = uri;\n",
       "    tag.async = true;\n",
       "    tag.onload = () => {\n",
       "        exports = savedexports;\n",
       "        module = savedmodule;\n",
       "        resolve();\n",
       "    };\n",
       "  var firstScriptTag = document.getElementsByTagName('script')[0];\n",
       "  firstScriptTag.parentNode.insertBefore(tag, firstScriptTag);\n",
       "});\n",
       "};\n",
       "\n",
       "if(typeof $3Dmolpromise === 'undefined') {\n",
       "$3Dmolpromise = null;\n",
       "  $3Dmolpromise = loadScriptAsync('https://cdnjs.cloudflare.com/ajax/libs/3Dmol/2.4.2/3Dmol-min.js');\n",
       "}\n",
       "\n",
       "var viewer_1738162195057832 = null;\n",
       "var warn = document.getElementById(\"3dmolwarning_1738162195057832\");\n",
       "if(warn) {\n",
       "    warn.parentNode.removeChild(warn);\n",
       "}\n",
       "$3Dmolpromise.then(function() {\n",
       "viewer_1738162195057832 = $3Dmol.createViewer(document.getElementById(\"3dmolviewer_1738162195057832\"),{backgroundColor:\"white\"});\n",
       "viewer_1738162195057832.zoomTo();\n",
       "\tviewer_1738162195057832.addModel(\"7\\n\\nC     -0.609525    0.000838   -0.004720\\nC      0.862683   -0.075077   -0.298294\\nH     -1.116003    0.492872   -0.873624\\nH     -0.787353    0.648715    0.886691\\nH     -1.054332   -1.000089    0.176460\\nH      1.340322    0.881131   -0.027266\\nH      1.364208   -0.948389    0.140753\\n\",\"xyz\");\n",
       "\tviewer_1738162195057832.setStyle({\"stick\": {}, \"sphere\": {\"scale\": 0.3}});\n",
       "\tviewer_1738162195057832.zoomTo();\n",
       "viewer_1738162195057832.render();\n",
       "});\n",
       "</script>"
      ]
     },
     "metadata": {},
     "output_type": "display_data"
    }
   ],
   "source": [
    "# 5. Visualize the 3D structure using 3Dmol\n",
    "import py3Dmol\n",
    "\n",
    "viewer = py3Dmol.view(width=600, height=450)\n",
    "viewer.addModel(Chem.MolToXYZBlock(mol), \"xyz\")\n",
    "viewer.setStyle({\"stick\": {}, \"sphere\": {\"scale\": 0.3}})\n",
    "viewer.zoomTo()\n",
    "viewer.show()"
   ]
  }
 ],
 "metadata": {
  "kernelspec": {
   "display_name": "default",
   "language": "python",
   "name": "python3"
  },
  "language_info": {
   "codemirror_mode": {
    "name": "ipython",
    "version": 3
   },
   "file_extension": ".py",
   "mimetype": "text/x-python",
   "name": "python",
   "nbconvert_exporter": "python",
   "pygments_lexer": "ipython3",
   "version": "3.11.11"
  }
 },
 "nbformat": 4,
 "nbformat_minor": 2
}
